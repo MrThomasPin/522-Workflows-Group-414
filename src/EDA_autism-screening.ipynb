{
 "cells": [
  {
   "cell_type": "code",
   "execution_count": 10,
   "metadata": {
    "scrolled": true
   },
   "outputs": [],
   "source": [
    "#load packages\n",
    "library(tidyverse)\n",
    "library(reshape2)"
   ]
  },
  {
   "cell_type": "markdown",
   "metadata": {},
   "source": [
    "### Read in Files "
   ]
  },
  {
   "cell_type": "code",
   "execution_count": 11,
   "metadata": {},
   "outputs": [
    {
     "name": "stderr",
     "output_type": "stream",
     "text": [
      "Parsed with column specification:\n",
      "cols(\n",
      "  .default = col_double(),\n",
      "  gender = \u001b[31mcol_character()\u001b[39m,\n",
      "  ethnicity = \u001b[31mcol_character()\u001b[39m,\n",
      "  jundice = \u001b[31mcol_character()\u001b[39m,\n",
      "  austim = \u001b[31mcol_character()\u001b[39m,\n",
      "  contry_of_res = \u001b[31mcol_character()\u001b[39m,\n",
      "  used_app_before = \u001b[31mcol_character()\u001b[39m,\n",
      "  age_desc = \u001b[31mcol_character()\u001b[39m,\n",
      "  relation = \u001b[31mcol_character()\u001b[39m,\n",
      "  `Class/ASD` = \u001b[31mcol_character()\u001b[39m\n",
      ")\n",
      "\n",
      "See spec(...) for full column specifications.\n",
      "\n"
     ]
    }
   ],
   "source": [
    "df_autism <- read_csv(\"../data/Autism-Child-Data.csv\")\n",
    "# df_autism_train <- read_csv(\"..data/autism_screening_children_X_train.csv\")"
   ]
  },
  {
   "cell_type": "markdown",
   "metadata": {},
   "source": [
    "## Clean Names"
   ]
  },
  {
   "cell_type": "code",
   "execution_count": 12,
   "metadata": {},
   "outputs": [],
   "source": [
    "names(df_autism) <- make.names(names(df_autism))"
   ]
  },
  {
   "cell_type": "markdown",
   "metadata": {},
   "source": [
    "## Shape of Dataframe"
   ]
  },
  {
   "cell_type": "code",
   "execution_count": 20,
   "metadata": {
    "scrolled": true
   },
   "outputs": [
    {
     "name": "stdout",
     "output_type": "stream",
     "text": [
      "[1] \"Dataframe has 292 rows\"\n",
      "[1] \"Dataframe has 21 columns\"\n"
     ]
    }
   ],
   "source": [
    "#Check number of rows \n",
    "print(paste0(\"Dataframe has \", nrow(df_autism), \" rows\"))\n",
    "print(paste0(\"Dataframe has \", ncol(df_autism), \" columns\"))"
   ]
  },
  {
   "cell_type": "code",
   "execution_count": 21,
   "metadata": {},
   "outputs": [],
   "source": [
    "set.seed(2020)\n",
    "sample_size <- floor(0.8 * nrow(df_autism))\n",
    "df_autism_sample <- sample(seq_len(nrow(df_autism)), size = sample_size)"
   ]
  },
  {
   "cell_type": "markdown",
   "metadata": {},
   "source": [
    "## Structure"
   ]
  },
  {
   "cell_type": "code",
   "execution_count": 22,
   "metadata": {},
   "outputs": [
    {
     "name": "stdout",
     "output_type": "stream",
     "text": [
      "Classes ‘spec_tbl_df’, ‘tbl_df’, ‘tbl’ and 'data.frame':\t292 obs. of  21 variables:\n",
      " $ A1_Score       : num  1 1 1 0 1 0 1 1 1 0 ...\n",
      " $ A2_Score       : num  1 1 1 1 1 0 0 1 1 0 ...\n",
      " $ A3_Score       : num  0 0 0 0 1 1 1 1 1 1 ...\n",
      " $ A4_Score       : num  0 0 0 0 1 0 1 1 1 1 ...\n",
      " $ A5_Score       : num  1 1 0 1 1 1 1 1 1 1 ...\n",
      " $ A6_Score       : num  1 1 1 1 1 1 1 1 1 0 ...\n",
      " $ A7_Score       : num  0 0 1 0 1 0 0 1 1 1 ...\n",
      " $ A8_Score       : num  1 1 1 0 1 1 1 1 0 1 ...\n",
      " $ A9_Score       : num  0 0 0 0 1 0 0 0 0 0 ...\n",
      " $ A10_Score      : num  0 0 0 1 1 1 1 0 0 0 ...\n",
      " $ age            : num  6 6 6 5 5 4 5 5 11 11 ...\n",
      " $ gender         : Factor w/ 2 levels \"f\",\"m\": 2 2 2 1 2 2 2 1 1 1 ...\n",
      " $ ethnicity      : chr  \"Others\" \"Middle Eastern\" \"?\" \"?\" ...\n",
      " $ jundice        : Factor w/ 2 levels \"no\",\"yes\": 1 1 1 2 2 1 1 1 1 1 ...\n",
      " $ austim         : Factor w/ 2 levels \"no\",\"yes\": 1 1 1 1 1 2 1 1 1 2 ...\n",
      " $ contry_of_res  : chr  \"Jordan\" \"Jordan\" \"Jordan\" \"Jordan\" ...\n",
      " $ used_app_before: Factor w/ 2 levels \"no\",\"yes\": 1 1 2 1 1 1 1 1 1 1 ...\n",
      " $ result         : num  5 5 5 4 10 5 7 8 7 5 ...\n",
      " $ age_desc       : chr  \"4-11 years\" \"4-11 years\" \"4-11 years\" \"4-11 years\" ...\n",
      " $ relation       : chr  \"Parent\" \"Parent\" \"?\" \"?\" ...\n",
      " $ Class.ASD      : Factor w/ 2 levels \"NO\",\"YES\": 1 1 1 1 2 1 2 2 2 1 ...\n",
      " - attr(*, \"spec\")=\n",
      "  .. cols(\n",
      "  ..   A1_Score = \u001b[32mcol_double()\u001b[39m,\n",
      "  ..   A2_Score = \u001b[32mcol_double()\u001b[39m,\n",
      "  ..   A3_Score = \u001b[32mcol_double()\u001b[39m,\n",
      "  ..   A4_Score = \u001b[32mcol_double()\u001b[39m,\n",
      "  ..   A5_Score = \u001b[32mcol_double()\u001b[39m,\n",
      "  ..   A6_Score = \u001b[32mcol_double()\u001b[39m,\n",
      "  ..   A7_Score = \u001b[32mcol_double()\u001b[39m,\n",
      "  ..   A8_Score = \u001b[32mcol_double()\u001b[39m,\n",
      "  ..   A9_Score = \u001b[32mcol_double()\u001b[39m,\n",
      "  ..   A10_Score = \u001b[32mcol_double()\u001b[39m,\n",
      "  ..   age = \u001b[32mcol_double()\u001b[39m,\n",
      "  ..   gender = \u001b[31mcol_character()\u001b[39m,\n",
      "  ..   ethnicity = \u001b[31mcol_character()\u001b[39m,\n",
      "  ..   jundice = \u001b[31mcol_character()\u001b[39m,\n",
      "  ..   austim = \u001b[31mcol_character()\u001b[39m,\n",
      "  ..   contry_of_res = \u001b[31mcol_character()\u001b[39m,\n",
      "  ..   used_app_before = \u001b[31mcol_character()\u001b[39m,\n",
      "  ..   result = \u001b[32mcol_double()\u001b[39m,\n",
      "  ..   age_desc = \u001b[31mcol_character()\u001b[39m,\n",
      "  ..   relation = \u001b[31mcol_character()\u001b[39m,\n",
      "  ..   `Class/ASD` = \u001b[31mcol_character()\u001b[39m\n",
      "  .. )\n"
     ]
    }
   ],
   "source": [
    "#Check Structure\n",
    "str(df_autism)"
   ]
  },
  {
   "cell_type": "markdown",
   "metadata": {},
   "source": [
    "- `A1-A10` scores are numerical which is an appropriate data type for analysis downstream.\n",
    "- `Age` is numerical which is an appropriate data type for analysis downstream.\n",
    "- `Ethnicity` is character which may be appropriate for analyses. \n",
    "\t- There seems to be some number of NAs further digging into this variable is needed.  \n",
    "- `Gender` is a character: however, it should be changed to a factor. \n",
    "- `Jundice` is a character: however, it should be changed to a factor.\n",
    "- `austim` is a character: however, it should be changed to a factor.\n",
    "- `contry_of_res` is a character which is an appropriate data type for analysis downstream.\n",
    "- `used_app_before` is a character: however, it should be changed to a factor.\n",
    "- `result` is numerical which is an appropriate data type for analysis downstream.\n",
    "- `Age_desc` is a character: however, it should be changed to a factor.\n",
    "\t- However, this column might be redundant with age.\n",
    "- `Relation` is character which may be appropriate for analyses. \n",
    "\t- There seems to be some number of NAs further digging into this variable is needed. \n",
    "- `Class.ASD` is a character: however, it should be changed to a factor.\n"
   ]
  },
  {
   "cell_type": "markdown",
   "metadata": {},
   "source": [
    "## Clean and Explore Columns"
   ]
  },
  {
   "cell_type": "code",
   "execution_count": 23,
   "metadata": {},
   "outputs": [],
   "source": [
    "columns_chng_factor_full <- c(\"gender\", 'jundice', 'austim', 'used_app_before', 'Class.ASD')\n"
   ]
  },
  {
   "cell_type": "code",
   "execution_count": 26,
   "metadata": {},
   "outputs": [],
   "source": [
    "#Fix factor level\n",
    "for (col in columns_chng_factor_full) {\n",
    "    df_autism[[col]] <- as.factor(df_autism[[col]])\n",
    "    \n",
    "}\n"
   ]
  },
  {
   "cell_type": "code",
   "execution_count": 46,
   "metadata": {},
   "outputs": [
    {
     "data": {
      "text/html": [
       "TRUE"
      ],
      "text/latex": [
       "TRUE"
      ],
      "text/markdown": [
       "TRUE"
      ],
      "text/plain": [
       "[1] TRUE"
      ]
     },
     "metadata": {},
     "output_type": "display_data"
    }
   ],
   "source": [
    "#Split into train and test sets for EDA\n",
    "set.seed(1)\n",
    "train_size <- floor(nrow(df_autism)*0.8)\n",
    "train_index <- sample(seq_len(nrow(df_autism)), train_size)\n",
    "\n",
    "train <- df_autism[train_index,]\n",
    "test <- df_autism[-train_index,]\n",
    "\n",
    "#Check sizes\n",
    "nrow(train) + nrow(test) == nrow(df_autism)\n",
    "\n",
    "#Attribution:\n",
    "# https://stackoverflow.com/questions/17200114/how-to-split-data-into-training-testing-sets-using-sample-function"
   ]
  },
  {
   "cell_type": "code",
   "execution_count": 48,
   "metadata": {},
   "outputs": [
    {
     "name": "stdout",
     "output_type": "stream",
     "text": [
      " [1] \"Middle Eastern\" \"Asian\"          \"White-European\" \"Black\"         \n",
      " [5] \"Latino\"         \"?\"              \"Pasifika\"       \"Hispanic\"      \n",
      " [9] \"Others\"         \"South Asian\"    \"Turkish\"       \n",
      "[1] \"There are 0 NAs\"\n"
     ]
    }
   ],
   "source": [
    "#Digging into ethnicity\n",
    "print(unique(train$ethnicity))\n",
    "print(paste0(\"There are \", sum(is.na(train$ethnicity)), \" NAs\"))\n"
   ]
  },
  {
   "cell_type": "markdown",
   "metadata": {},
   "source": [
    "> There seems to be a large amount of NA’s in the ethnicity column it might need to be dropped downstream. "
   ]
  },
  {
   "cell_type": "code",
   "execution_count": 11,
   "metadata": {},
   "outputs": [
    {
     "name": "stdout",
     "output_type": "stream",
     "text": [
      "[1] \"Parent\"                   NA                        \n",
      "[3] \"Self\"                     \"Relative\"                \n",
      "[5] \"Health care professional\" \"self\"                    \n",
      "[1] \"There is 43NAs\"\n"
     ]
    }
   ],
   "source": [
    "#Digging into relation\n",
    "print(unique(df_autism$relation))\n",
    "print(paste0(\"There is \", sum(is.na(df_autism$relation)), \"NAs\"))\n"
   ]
  },
  {
   "cell_type": "markdown",
   "metadata": {},
   "source": [
    "> There seems to be a large amount of NA’s in the relation column it might need to be dropped downstream"
   ]
  },
  {
   "cell_type": "markdown",
   "metadata": {},
   "source": [
    "### From here onwards, the training set of X will be be used instead of the main dataframe to prevevent the Golden Rule from being violated. "
   ]
  },
  {
   "cell_type": "code",
   "execution_count": 12,
   "metadata": {},
   "outputs": [
    {
     "data": {
      "text/plain": [
       "    A1_Score         A2_Score         A3_Score         A4_Score     \n",
       " Min.   :0.0000   Min.   :0.0000   Min.   :0.0000   Min.   :0.0000  \n",
       " 1st Qu.:0.0000   1st Qu.:0.0000   1st Qu.:0.0000   1st Qu.:0.0000  \n",
       " Median :1.0000   Median :1.0000   Median :1.0000   Median :1.0000  \n",
       " Mean   :0.6223   Mean   :0.5322   Mean   :0.7296   Mean   :0.5451  \n",
       " 3rd Qu.:1.0000   3rd Qu.:1.0000   3rd Qu.:1.0000   3rd Qu.:1.0000  \n",
       " Max.   :1.0000   Max.   :1.0000   Max.   :1.0000   Max.   :1.0000  \n",
       "                                                                    \n",
       "    A5_Score         A6_Score         A7_Score         A8_Score     \n",
       " Min.   :0.0000   Min.   :0.0000   Min.   :0.0000   Min.   :0.0000  \n",
       " 1st Qu.:0.0000   1st Qu.:0.0000   1st Qu.:0.0000   1st Qu.:0.0000  \n",
       " Median :1.0000   Median :1.0000   Median :1.0000   Median :0.0000  \n",
       " Mean   :0.7425   Mean   :0.7124   Mean   :0.6052   Mean   :0.4807  \n",
       " 3rd Qu.:1.0000   3rd Qu.:1.0000   3rd Qu.:1.0000   3rd Qu.:1.0000  \n",
       " Max.   :1.0000   Max.   :1.0000   Max.   :1.0000   Max.   :1.0000  \n",
       "                                                                    \n",
       "    A9_Score        A10_Score           age        gender   ethnicity        \n",
       " Min.   :0.0000   Min.   :0.0000   Min.   : 4.00   f: 71   Length:233        \n",
       " 1st Qu.:0.0000   1st Qu.:0.0000   1st Qu.: 4.00   m:162   Class :character  \n",
       " Median :0.0000   Median :1.0000   Median : 6.00           Mode  :character  \n",
       " Mean   :0.4807   Mean   :0.7296   Mean   : 6.48                             \n",
       " 3rd Qu.:1.0000   3rd Qu.:1.0000   3rd Qu.: 8.00                             \n",
       " Max.   :1.0000   Max.   :1.0000   Max.   :11.00                             \n",
       "                                   NA's   :4                                 \n",
       " jundice   austim    contry_of_res      used_app_before     result     \n",
       " no :167   no :197   Length:233         no :225         Min.   : 0.00  \n",
       " yes: 66   yes: 36   Class :character   yes:  8         1st Qu.: 5.00  \n",
       "                     Mode  :character                   Median : 6.00  \n",
       "                                                        Mean   : 6.18  \n",
       "                                                        3rd Qu.: 8.00  \n",
       "                                                        Max.   :10.00  \n",
       "                                                                       \n",
       "   age_desc           relation        \n",
       " Length:233         Length:233        \n",
       " Class :character   Class :character  \n",
       " Mode  :character   Mode  :character  \n",
       "                                      \n",
       "                                      \n",
       "                                      \n",
       "                                      "
      ]
     },
     "metadata": {},
     "output_type": "display_data"
    }
   ],
   "source": [
    "summary(df_autism_train)"
   ]
  },
  {
   "cell_type": "markdown",
   "metadata": {},
   "source": [
    "- `A1_Score` 62.23% answered yes \n",
    "- `A2_Score` 53.22% answered yes \n",
    "- `A3_Score` 72.96% answered yes \n",
    "- `A4_Score` 54.51% answered yes \n",
    "- `A5_Score` 74.25% answered yes \n",
    "- `A6_Score` 71.24% answered yes \n",
    "- `A7_Score` 60.52% answered yes \n",
    "- `A8_Score` 48.07% answered yes \n",
    "- `A9_Score` 48.07% answered yes \n",
    "- `A10_Score` 72.96% answered yes \n",
    "- `age` ranges from 4 to 11 with the median age being 6. There is a skew to a younger audience that participanted. \n",
    "- `gender` there is a 30% female and 70% male split\n",
    "- `used_app_before` not a lot of individuals used the app before taking the Autism Spectrum Quotient-10"
   ]
  },
  {
   "cell_type": "markdown",
   "metadata": {},
   "source": [
    "### Make a plot"
   ]
  },
  {
   "cell_type": "code",
   "execution_count": 19,
   "metadata": {},
   "outputs": [
    {
     "ename": "ERROR",
     "evalue": "Error in eval(lhs, parent, parent): object 'df_autism_train' not found\n",
     "output_type": "error",
     "traceback": [
      "Error in eval(lhs, parent, parent): object 'df_autism_train' not found\nTraceback:\n",
      "1. df_autism_train %>% select(a_score) %>% cor() %>% melt() %>% \n .     filter(value < 1) %>% ggplot(aes(x = Var1, y = Var2, fill = value))",
      "2. eval(lhs, parent, parent)",
      "3. eval(lhs, parent, parent)"
     ]
    }
   ],
   "source": [
    "a_score <- c('A1_Score', 'A2_Score', 'A3_Score', 'A4_Score', 'A5_Score', 'A6_Score', 'A7_Score', 'A8_Score', 'A9_Score', 'A10_Score')\n",
    "\n",
    "\n",
    "corr_heatmap <- df_autism_train  %>% \n",
    "    select(a_score)  %>% \n",
    "    cor() %>% \n",
    "    melt() %>% \n",
    "    filter(value < 1) %>% \n",
    "    ggplot(aes(x=Var1, y=Var2, fill = value))+\n",
    "    geom_tile()+\n",
    "    ggtitle(\"Correlation Heatmap\")+\n",
    "    xlab(\"Predictor\")+\n",
    "    ylab(\"Predictor\")+\n",
    "    labs(fill = \"CORR\")\n",
    "\n",
    "corr_heatmap\n",
    "\n",
    "ggsave(\"img/01_corr_heatmap.png\")"
   ]
  },
  {
   "cell_type": "markdown",
   "metadata": {},
   "source": [
    "> None of the questions in the Autism Spectrum Quotient-10 are highly correlated with each other. This makes the test more valid as questions are not related to each other more independent."
   ]
  },
  {
   "cell_type": "markdown",
   "metadata": {},
   "source": [
    "## Follow-up Questions"
   ]
  },
  {
   "cell_type": "markdown",
   "metadata": {},
   "source": [
    "1.\tDo you have the right data? Yes, I think the data fits answering our question of finding the three features that most strongly predicts whether an individual will be diagnosed with Autism Spectrum Disorder. \n",
    "\n",
    "2.\tDo you need other data? Due to the fact that this data frame only has 292 examples we could use more examples. However, due to the expense of collecting more examples we will have to make do with this limited dataset. \n",
    "\n",
    "3.\tDo you have the right question? We can still look for the three features that most strongly predict whether an individual will be diagnosed with Autism Spectrum Disorder. However, due to the large amount of NA’s in some sections those features may have to be dropped. Our analysis may focus on the Autism Spectrum Quotient-10 but, it is a good sign that the Autism Spectrum Quotient-10 questions are not correlated. "
   ]
  },
  {
   "cell_type": "code",
   "execution_count": null,
   "metadata": {},
   "outputs": [],
   "source": []
  }
 ],
 "metadata": {
  "kernelspec": {
   "display_name": "R",
   "language": "R",
   "name": "ir"
  },
  "language_info": {
   "codemirror_mode": "r",
   "file_extension": ".r",
   "mimetype": "text/x-r-source",
   "name": "R",
   "pygments_lexer": "r",
   "version": "3.6.1"
  }
 },
 "nbformat": 4,
 "nbformat_minor": 4
}
