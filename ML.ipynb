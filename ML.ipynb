{
 "cells": [
  {
   "cell_type": "code",
   "execution_count": 441,
   "metadata": {},
   "outputs": [],
   "source": [
    "import pandas as pd\n",
    "import numpy as np\n",
    "\n",
    "# Preprocessing\n",
    "from sklearn.preprocessing import StandardScaler, OneHotEncoder, LabelEncoder, PolynomialFeatures\n",
    "from sklearn.compose import ColumnTransformer\n",
    "\n",
    "# Models\n",
    "from sklearn.tree import DecisionTreeClassifier\n",
    "from sklearn.ensemble import RandomForestClassifier\n",
    "from sklearn.linear_model import LogisticRegression, LinearRegression\n",
    "from sklearn.svm import SVC\n",
    "from sklearn.neighbors import KNeighborsClassifier\n",
    "\n",
    "# Metrics\n",
    "from sklearn.metrics import mean_squared_error, confusion_matrix, classification_report, roc_curve\n",
    "\n",
    "# Model selection\n",
    "from sklearn.model_selection import GridSearchCV, train_test_split, cross_val_score\n",
    "from sklearn.pipeline import Pipeline\n",
    "\n",
    "# Feature selection\n",
    "from sklearn.feature_selection import RFE\n",
    "\n",
    "# Plotting\n",
    "import altair as alt"
   ]
  },
  {
   "cell_type": "code",
   "execution_count": 199,
   "metadata": {},
   "outputs": [],
   "source": [
    "X_train = pd.read_csv(\"data/clean-data/Xtrain-clean-autism-screening.csv\", index_col=0)\n",
    "y_train = pd.read_csv(\"data/clean-data/ytrain-clean-autism-screening.csv\", index_col=0)\n",
    "X_test = pd.read_csv(\"data/clean-data/Xtest-clean-autism-screening.csv\", index_col=0)\n",
    "y_test = pd.read_csv(\"data/clean-data/ytest-clean-autism-screening.csv\", index_col=0)\n"
   ]
  },
  {
   "cell_type": "code",
   "execution_count": 200,
   "metadata": {},
   "outputs": [],
   "source": [
    "# Make validation set \n",
    "\n",
    "X_train, X_valid, y_train, y_valid = train_test_split(X_train, y_train, test_size=0.2, random_state=414)"
   ]
  },
  {
   "cell_type": "code",
   "execution_count": 201,
   "metadata": {},
   "outputs": [],
   "source": [
    "numeric_features = [\"age\", \n",
    "                    \"result\"]\n",
    "\n",
    "one_hot_features = [\"gender\", \n",
    "                    \"ethnicity\", \n",
    "                    \"jaundice\", \n",
    "                    \"country_of_res\", \n",
    "                    \"used_app_before\", \n",
    "                    \"age_desc\", \n",
    "                    \"relation\",\n",
    "                    \"Class/ASD\"]\n",
    "\n",
    "other_columns = list(X_train.columns[0:10])\n",
    "\n",
    "\n"
   ]
  },
  {
   "cell_type": "code",
   "execution_count": 202,
   "metadata": {},
   "outputs": [],
   "source": [
    "preprocessor = ColumnTransformer(sparse_threshold=0,\n",
    "    transformers=[\n",
    "        (\"scale\", \n",
    "         StandardScaler(), \n",
    "         numeric_features),\n",
    "        (\"one_hot\", \n",
    "         OneHotEncoder(drop=None, \n",
    "                       handle_unknown=\"ignore\"), \n",
    "         one_hot_features)\n",
    "    ])"
   ]
  },
  {
   "cell_type": "code",
   "execution_count": 203,
   "metadata": {},
   "outputs": [],
   "source": [
    "X_train_temp = pd.DataFrame(preprocessor.fit_transform(X_train), \n",
    "            index = X_train.index,\n",
    "            columns = (numeric_features + \n",
    "                       list(preprocessor\n",
    "                           .named_transformers_[\"one_hot\"]\n",
    "                           .get_feature_names(one_hot_features)))\n",
    "                      )\n",
    "\n",
    "X_test_temp = pd.DataFrame(preprocessor.transform(X_test),\n",
    "                     index = X_test.index,\n",
    "                     columns = X_train_temp.columns)\n",
    "\n",
    "X_valid_temp = pd.DataFrame(preprocessor.transform(X_valid),\n",
    "                     index = X_valid.index,\n",
    "                     columns = X_train_temp.columns)\n",
    "\n",
    "X_train = X_train_temp.join(X_train[other_columns])\n",
    "X_test = X_test_temp.join(X_test[other_columns])\n",
    "X_valid = X_valid_temp.join(X_valid[other_columns])"
   ]
  },
  {
   "cell_type": "code",
   "execution_count": 204,
   "metadata": {},
   "outputs": [],
   "source": [
    "le = LabelEncoder()\n",
    "\n",
    "y_train = le.fit_transform(y_train.to_numpy().ravel())\n",
    "y_test = le.transform(y_test.to_numpy().ravel())\n",
    "y_valid = le.transform(y_valid.to_numpy().ravel())"
   ]
  },
  {
   "cell_type": "code",
   "execution_count": 205,
   "metadata": {},
   "outputs": [],
   "source": [
    "# lr = LogisticRegression()\n",
    "# print(\"LR score on train set:\", lr.fit(X_train, y_train).score(X_train, y_train))\n",
    "# print(\"LR score on test set:\", lr.score(X_test, y_test))\n",
    "\n",
    "# dt = DecisionTreeClassifier()\n",
    "# print(\"DT score on train set:\", dt.fit(X_train, y_train).score(X_train, y_train))\n",
    "# print(\"DT score on test set:\", dt.score(X_test, y_test))\n",
    "\n",
    "# rf = RandomForestClassifier()\n",
    "# print(\"RF score on train set:\", rf.fit(X_train, y_train).score(X_train, y_train))\n",
    "# print(\"RF score on test set:\", rf.score(X_test, y_test))\n",
    "\n",
    "# svm = SVC()\n",
    "# print(\"SVM score on train set:\", svm.fit(X_train, y_train).score(X_train, y_train))\n",
    "# print(\"SVM score on test set:\", svm.score(X_test, y_test))\n",
    "\n",
    "# knn = KNeighborsClassifier()\n",
    "# print(\"KNN score on train set:\", knn.fit(X_train, y_train).score(X_train, y_train))\n",
    "# print(\"KNN score on test set:\", knn.score(X_test, y_test))"
   ]
  },
  {
   "cell_type": "code",
   "execution_count": 206,
   "metadata": {},
   "outputs": [
    {
     "name": "stderr",
     "output_type": "stream",
     "text": [
      "/Users/matt/anaconda3/lib/python3.7/site-packages/sklearn/linear_model/_logistic.py:939: ConvergenceWarning: lbfgs failed to converge (status=1):\n",
      "STOP: TOTAL NO. of ITERATIONS REACHED LIMIT.\n",
      "\n",
      "Increase the number of iterations (max_iter) or scale the data as shown in:\n",
      "    https://scikit-learn.org/stable/modules/preprocessing.html.\n",
      "Please also refer to the documentation for alternative solver options:\n",
      "    https://scikit-learn.org/stable/modules/linear_model.html#logistic-regression\n",
      "  extra_warning_msg=_LOGISTIC_SOLVER_CONVERGENCE_MSG)\n"
     ]
    },
    {
     "name": "stdout",
     "output_type": "stream",
     "text": [
      "LogisticRegression(C=100, class_weight=None, dual=False, fit_intercept=True,\n",
      "                   intercept_scaling=1, l1_ratio=None, max_iter=100,\n",
      "                   multi_class='auto', n_jobs=None, penalty='l2',\n",
      "                   random_state=None, solver='lbfgs', tol=0.0001, verbose=0,\n",
      "                   warm_start=False)\n",
      "{'C': 100, 'penalty': 'l2'}\n",
      "0.2852380952380952 \n",
      "\n",
      "\n",
      "DecisionTreeClassifier(ccp_alpha=0.0, class_weight=None, criterion='gini',\n",
      "                       max_depth=15, max_features=20, max_leaf_nodes=None,\n",
      "                       min_impurity_decrease=0.0, min_impurity_split=None,\n",
      "                       min_samples_leaf=1, min_samples_split=2,\n",
      "                       min_weight_fraction_leaf=0.0, presort='deprecated',\n",
      "                       random_state=None, splitter='best')\n",
      "{'max_depth': 15, 'max_features': 20}\n",
      "0.3118648018648019 \n",
      "\n",
      "\n",
      "RandomForestClassifier(bootstrap=True, ccp_alpha=0.0, class_weight=None,\n",
      "                       criterion='gini', max_depth=None, max_features=20,\n",
      "                       max_leaf_nodes=None, max_samples=None,\n",
      "                       min_impurity_decrease=0, min_impurity_split=None,\n",
      "                       min_samples_leaf=1, min_samples_split=2,\n",
      "                       min_weight_fraction_leaf=0.0, n_estimators=100,\n",
      "                       n_jobs=None, oob_score=False, random_state=None,\n",
      "                       verbose=0, warm_start=False)\n",
      "{'max_features': 20, 'min_impurity_decrease': 0}\n",
      "0.45999999999999996 \n",
      "\n",
      "\n",
      "SVC(C=100, break_ties=False, cache_size=200, class_weight=None, coef0=0.0,\n",
      "    decision_function_shape='ovr', degree=3, gamma=0.01, kernel='rbf',\n",
      "    max_iter=-1, probability=False, random_state=None, shrinking=True,\n",
      "    tol=0.001, verbose=False)\n",
      "{'C': 100, 'gamma': 0.01}\n",
      "0.36000000000000004 \n",
      "\n",
      "\n",
      "KNeighborsClassifier(algorithm='brute', leaf_size=30, metric='minkowski',\n",
      "                     metric_params=None, n_jobs=None, n_neighbors=5, p=2,\n",
      "                     weights='uniform')\n",
      "{'algorithm': 'brute', 'n_neighbors': 5}\n",
      "0.27666666666666667 \n",
      "\n",
      "\n"
     ]
    }
   ],
   "source": [
    "## Pipeline\n",
    "\n",
    "lr = LogisticRegression()\n",
    "\n",
    "dt = DecisionTreeClassifier()\n",
    "\n",
    "rf = RandomForestClassifier()\n",
    "\n",
    "svm = SVC()\n",
    "\n",
    "knn = KNeighborsClassifier()\n",
    "\n",
    "estimators = [lr, dt, rf, svm, knn]\n",
    "\n",
    "# pipe_steps = [('poly', PolynomialFeatures(...)),\n",
    "#               ('lr', LogisticRegression(...)),\n",
    "#               ('dt', DecisionTreeClassifier(...)),\n",
    "#               ('rf', RandomForestClassifier(...)),\n",
    "#               ('svm', SVC(...)),\n",
    "#               ('knn', KNeighborsClassifier(...))]\n",
    "             \n",
    "# pipe = Pipeline(steps = pipe_steps)\n",
    "\n",
    "# 'linear' kernel takes an insanely long time??\n",
    "# https://datascience.stackexchange.com/questions/989/svm-using-scikit-learn-runs-endlessly-and-never-completes-execution\n",
    "\n",
    "params = [{'C':[0.000001, 0.00001, 0.0001, 0.001, 0.01, 0.1, 1, 10, 100, 1000],\n",
    "         'penalty': ['l1', 'l2']},\n",
    "         {'max_depth': [1, 5, 10, 15, 20, 25, None],\n",
    "         'max_features': [3, 5, 10, 20, 25, 50, 100, None]},\n",
    "         {'min_impurity_decrease': [0, 0.25, 0.5],\n",
    "         'max_features': [3, 5, 10, 20, 50, 100, 'auto']},\n",
    "         {'C':[0.000001, 0.00001, 0.0001, 0.001, 0.01, 0.1, 1, 10, 100, 1000],\n",
    "         'gamma':[0.000001, 0.00001, 0.0001, 0.001, 0.01, 0.1, 1, 10, 100]},\n",
    "         {'n_neighbors': [2, 5, 10, 15, 20, 50, 100],\n",
    "         'algorithm': ['auto', 'brute']}]\n",
    "\n",
    "\n",
    "# Scoring = precision to reduce false positives\n",
    "for i in range(len(estimators)):\n",
    "    search = GridSearchCV(estimator=estimators[i], \n",
    "                          param_grid=params[i],\n",
    "                          cv = 10,\n",
    "                          n_jobs=-1,\n",
    "                         scoring='precision')\n",
    "    \n",
    "    search_object = search.fit(X_train, y_train)\n",
    "    \n",
    "    print(search_object.best_estimator_)\n",
    "    print(search_object.best_params_)\n",
    "    print(search_object.best_score_, \"\\n\\n\")"
   ]
  },
  {
   "cell_type": "code",
   "execution_count": 193,
   "metadata": {},
   "outputs": [],
   "source": [
    "# the best precision score comes from a random forest classifier with max_features=20 and min_impurity decrease = 0\n",
    "# and precision = 0.46"
   ]
  },
  {
   "cell_type": "code",
   "execution_count": 419,
   "metadata": {},
   "outputs": [
    {
     "data": {
      "text/plain": [
       "1.0"
      ]
     },
     "execution_count": 419,
     "metadata": {},
     "output_type": "execute_result"
    }
   ],
   "source": [
    "rf = RandomForestClassifier(max_features=20, min_impurity_decrease=0)\n",
    "rf.fit(X_train, y_train).score(X_train, y_train)\n"
   ]
  },
  {
   "cell_type": "code",
   "execution_count": 420,
   "metadata": {},
   "outputs": [],
   "source": [
    "# It gets a perfect score on the train set"
   ]
  },
  {
   "cell_type": "code",
   "execution_count": 421,
   "metadata": {},
   "outputs": [
    {
     "data": {
      "text/plain": [
       "0.8461538461538461"
      ]
     },
     "execution_count": 421,
     "metadata": {},
     "output_type": "execute_result"
    }
   ],
   "source": [
    "rf.score(X_valid, y_valid)"
   ]
  },
  {
   "cell_type": "code",
   "execution_count": 422,
   "metadata": {},
   "outputs": [],
   "source": [
    "# and ~85% on the validation set"
   ]
  },
  {
   "cell_type": "code",
   "execution_count": 424,
   "metadata": {},
   "outputs": [
    {
     "data": {
      "text/plain": [
       "0.8370786516853933"
      ]
     },
     "execution_count": 424,
     "metadata": {},
     "output_type": "execute_result"
    }
   ],
   "source": [
    "rf.score(X_test, y_test)"
   ]
  },
  {
   "cell_type": "code",
   "execution_count": 426,
   "metadata": {},
   "outputs": [
    {
     "data": {
      "text/html": [
       "<div>\n",
       "<style scoped>\n",
       "    .dataframe tbody tr th:only-of-type {\n",
       "        vertical-align: middle;\n",
       "    }\n",
       "\n",
       "    .dataframe tbody tr th {\n",
       "        vertical-align: top;\n",
       "    }\n",
       "\n",
       "    .dataframe thead th {\n",
       "        text-align: right;\n",
       "    }\n",
       "</style>\n",
       "<table border=\"1\" class=\"dataframe\">\n",
       "  <thead>\n",
       "    <tr style=\"text-align: right;\">\n",
       "      <th></th>\n",
       "      <th>0</th>\n",
       "      <th>1</th>\n",
       "    </tr>\n",
       "  </thead>\n",
       "  <tbody>\n",
       "    <tr>\n",
       "      <th>0</th>\n",
       "      <td>120</td>\n",
       "      <td>3</td>\n",
       "    </tr>\n",
       "    <tr>\n",
       "      <th>1</th>\n",
       "      <td>19</td>\n",
       "      <td>1</td>\n",
       "    </tr>\n",
       "  </tbody>\n",
       "</table>\n",
       "</div>"
      ],
      "text/plain": [
       "     0  1\n",
       "0  120  3\n",
       "1   19  1"
      ]
     },
     "execution_count": 426,
     "metadata": {},
     "output_type": "execute_result"
    }
   ],
   "source": [
    "pd.DataFrame(confusion_matrix(y_valid, rf.predict(X_valid)))\n"
   ]
  },
  {
   "cell_type": "code",
   "execution_count": 225,
   "metadata": {},
   "outputs": [
    {
     "name": "stdout",
     "output_type": "stream",
     "text": [
      "              precision    recall  f1-score   support\n",
      "\n",
      "           0       0.86      0.95      0.90       150\n",
      "           1       0.36      0.14      0.21        28\n",
      "\n",
      "    accuracy                           0.83       178\n",
      "   macro avg       0.61      0.55      0.55       178\n",
      "weighted avg       0.78      0.83      0.79       178\n",
      "\n"
     ]
    }
   ],
   "source": [
    "print(classification_report(y_test, rf.predict(X_test)))"
   ]
  },
  {
   "cell_type": "code",
   "execution_count": 226,
   "metadata": {},
   "outputs": [],
   "source": [
    "questions = ['A1_Score',\n",
    "       'A2_Score',\n",
    "       'A3_Score',\n",
    "       'A4_Score',\n",
    "       'A5_Score',\n",
    "       'A6_Score',\n",
    "       'A7_Score',\n",
    "       'A8_Score',\n",
    "       'A9_Score',\n",
    "       'A10_Score']\n",
    "\n",
    "questions_train_df = X_train[questions]\n",
    "\n",
    "questions_valid_df = X_valid[questions]\n",
    "\n",
    "questions_test_df = X_test[questions]"
   ]
  },
  {
   "cell_type": "code",
   "execution_count": null,
   "metadata": {},
   "outputs": [],
   "source": []
  },
  {
   "cell_type": "code",
   "execution_count": 362,
   "metadata": {},
   "outputs": [],
   "source": [
    "# Attribution: Varada Kolhatkar\n",
    "\n",
    "class ForwardSelection:\n",
    "    def __init__(self, \n",
    "                 model, \n",
    "                 min_features=None, \n",
    "                 max_features=None, \n",
    "                 scoring=None, \n",
    "                 cv=None):\n",
    "        \"\"\"\n",
    "        WRITE YOUR DOCSTRING\n",
    "        \"\"\"\n",
    "        self.max_features = max_features\n",
    "        if min_features is None:\n",
    "            self.min_features = 1\n",
    "        else:\n",
    "            self.min_features = min_features\n",
    "\n",
    "        self.model = model\n",
    "        self.scoring = scoring\n",
    "        self.cv = cv\n",
    "        self.ftr_ = []\n",
    "        return\n",
    "    \n",
    "    def fit(self, X, y):\n",
    "        \"\"\"\n",
    "        WRITE YOUR DOCSTRING        \n",
    "        \"\"\"\n",
    "        \n",
    "        error = np.inf\n",
    "        best = None\n",
    "        feature_index = list(range(0, (X.shape[1])))\n",
    "        errors = []\n",
    "        \n",
    "        X_train, X_test, y_train, y_test = train_test_split(X, y, test_size=0.2, random_state=514)\n",
    "\n",
    "        X_temp = X_train\n",
    "\n",
    "        while error > 0.0:\n",
    "            print(error)\n",
    "            if best is not None:\n",
    "                if best not in feature_index:\n",
    "                    del feature_index[-2]\n",
    "#                     del feature_index[-1]\n",
    "                    break\n",
    "                feature_index.remove(best)\n",
    "\n",
    "            for i in feature_index:\n",
    "#                 print('sup')\n",
    "                self.model.fit(X_temp[:, self.ftr_ + [i]], y_train)\n",
    "                temp_error = 1-np.mean(cross_val_score(self.model, X[:, self.ftr_ + [i]], y, scoring='f1'))\n",
    "                print(temp_error)\n",
    "\n",
    "                if temp_error < error:\n",
    "                    error = temp_error\n",
    "                    best = i\n",
    "\n",
    "            errors.append(round(error, 3))\n",
    "\n",
    "            if len(errors) > 2:\n",
    "                if errors[-1] >= errors[-2]:\n",
    "                    break\n",
    "\n",
    "            if self.max_features is not None:\n",
    "                if len(errors) > self.max_features:\n",
    "                    break\n",
    "\n",
    "            self.ftr_.append(best)\n",
    "\n",
    "\n",
    "    def transform(self, X, y=None):\n",
    "        \"\"\"\n",
    "        WRITE YOUR DOCSTRING        \n",
    "        \"\"\"\n",
    "        return X[:, self.ftr_]\n",
    "    "
   ]
  },
  {
   "cell_type": "code",
   "execution_count": 363,
   "metadata": {},
   "outputs": [],
   "source": [
    "fs = ForwardSelection(RandomForestClassifier(), max_features=None)"
   ]
  },
  {
   "cell_type": "code",
   "execution_count": 364,
   "metadata": {},
   "outputs": [
    {
     "data": {
      "text/plain": [
       "[0, 1, 2, 3, 4, 5, 6, 7, 8, 9]"
      ]
     },
     "execution_count": 364,
     "metadata": {},
     "output_type": "execute_result"
    }
   ],
   "source": [
    "list(range(0, (questions_train_df.shape[1])))"
   ]
  },
  {
   "cell_type": "code",
   "execution_count": null,
   "metadata": {},
   "outputs": [],
   "source": []
  },
  {
   "cell_type": "code",
   "execution_count": 365,
   "metadata": {},
   "outputs": [
    {
     "name": "stderr",
     "output_type": "stream",
     "text": [
      "/Users/matt/anaconda3/lib/python3.7/site-packages/sklearn/model_selection/_validation.py:536: FitFailedWarning: Estimator fit failed. The score on this train-test partition for these parameters will be set to nan. Details: \n",
      "ValueError: max_features must be in (0, n_features]\n",
      "\n",
      "  FitFailedWarning)\n",
      "/Users/matt/anaconda3/lib/python3.7/site-packages/sklearn/model_selection/_validation.py:536: FitFailedWarning: Estimator fit failed. The score on this train-test partition for these parameters will be set to nan. Details: \n",
      "ValueError: max_features must be in (0, n_features]\n",
      "\n",
      "  FitFailedWarning)\n",
      "/Users/matt/anaconda3/lib/python3.7/site-packages/sklearn/model_selection/_validation.py:536: FitFailedWarning: Estimator fit failed. The score on this train-test partition for these parameters will be set to nan. Details: \n",
      "ValueError: max_features must be in (0, n_features]\n",
      "\n",
      "  FitFailedWarning)\n",
      "/Users/matt/anaconda3/lib/python3.7/site-packages/sklearn/model_selection/_validation.py:536: FitFailedWarning: Estimator fit failed. The score on this train-test partition for these parameters will be set to nan. Details: \n",
      "ValueError: max_features must be in (0, n_features]\n",
      "\n",
      "  FitFailedWarning)\n",
      "/Users/matt/anaconda3/lib/python3.7/site-packages/sklearn/model_selection/_validation.py:536: FitFailedWarning: Estimator fit failed. The score on this train-test partition for these parameters will be set to nan. Details: \n",
      "ValueError: max_features must be in (0, n_features]\n",
      "\n",
      "  FitFailedWarning)\n"
     ]
    },
    {
     "data": {
      "text/plain": [
       "nan"
      ]
     },
     "execution_count": 365,
     "metadata": {},
     "output_type": "execute_result"
    }
   ],
   "source": [
    "np.mean(cross_val_score(rf, questions_train_df, y_train, scoring='recall'))"
   ]
  },
  {
   "cell_type": "code",
   "execution_count": 366,
   "metadata": {},
   "outputs": [
    {
     "name": "stdout",
     "output_type": "stream",
     "text": [
      "inf\n",
      "1.0\n",
      "1.0\n",
      "1.0\n",
      "1.0\n",
      "1.0\n",
      "1.0\n",
      "1.0\n",
      "1.0\n",
      "1.0\n",
      "1.0\n",
      "1.0\n",
      "1.0\n",
      "1.0\n",
      "1.0\n",
      "1.0\n",
      "1.0\n",
      "1.0\n",
      "1.0\n",
      "1.0\n",
      "1.0\n",
      "1.0\n"
     ]
    }
   ],
   "source": [
    "fs.fit(questions_train_df.to_numpy(), y_train)"
   ]
  },
  {
   "cell_type": "code",
   "execution_count": 353,
   "metadata": {},
   "outputs": [
    {
     "data": {
      "text/plain": [
       "[1, 1]"
      ]
     },
     "execution_count": 353,
     "metadata": {},
     "output_type": "execute_result"
    }
   ],
   "source": [
    "fs.ftr_"
   ]
  },
  {
   "cell_type": "code",
   "execution_count": 367,
   "metadata": {},
   "outputs": [],
   "source": [
    "# No single one question is better than any other one question so forward selection won't work\n",
    "# Or it just won't work with a random forest\n"
   ]
  },
  {
   "cell_type": "code",
   "execution_count": 377,
   "metadata": {},
   "outputs": [
    {
     "data": {
      "text/plain": [
       "20"
      ]
     },
     "execution_count": 377,
     "metadata": {},
     "output_type": "execute_result"
    }
   ],
   "source": [
    "rf.max_features"
   ]
  },
  {
   "cell_type": "code",
   "execution_count": 392,
   "metadata": {},
   "outputs": [
    {
     "data": {
      "text/plain": [
       "RFE(estimator=RandomForestClassifier(bootstrap=True, ccp_alpha=0.0,\n",
       "                                     class_weight=None, criterion='gini',\n",
       "                                     max_depth=None, max_features='auto',\n",
       "                                     max_leaf_nodes=None, max_samples=None,\n",
       "                                     min_impurity_decrease=0.0,\n",
       "                                     min_impurity_split=None,\n",
       "                                     min_samples_leaf=1, min_samples_split=2,\n",
       "                                     min_weight_fraction_leaf=0.0,\n",
       "                                     n_estimators=100, n_jobs=None,\n",
       "                                     oob_score=False, random_state=None,\n",
       "                                     verbose=0, warm_start=False),\n",
       "    n_features_to_select=5, step=1, verbose=0)"
      ]
     },
     "execution_count": 392,
     "metadata": {},
     "output_type": "execute_result"
    }
   ],
   "source": [
    "rfe  =RFE(RandomForestClassifier(), n_features_to_select=5)\n",
    "\n",
    "rfe.fit(questions_train_df, y_train)"
   ]
  },
  {
   "cell_type": "code",
   "execution_count": 394,
   "metadata": {},
   "outputs": [
    {
     "data": {
      "text/plain": [
       "array([1, 6, 7, 8, 9])"
      ]
     },
     "execution_count": 394,
     "metadata": {},
     "output_type": "execute_result"
    }
   ],
   "source": [
    "np.where(rfe.ranking_ == 1)[0]"
   ]
  },
  {
   "cell_type": "code",
   "execution_count": 412,
   "metadata": {},
   "outputs": [],
   "source": [
    "X_train_best_5 = questions_train_df.to_numpy()[:,np.where(rfe.ranking_ == 1)[0]]\n",
    "X_test_best_5 = questions_test_df.to_numpy()[:,np.where(rfe.ranking_ == 1)[0]]\n",
    "X_valid_best_5 = questions_valid_df.to_numpy()[:,np.where(rfe.ranking_ == 1)[0]]"
   ]
  },
  {
   "cell_type": "code",
   "execution_count": 413,
   "metadata": {},
   "outputs": [
    {
     "data": {
      "text/plain": [
       "RandomForestClassifier(bootstrap=True, ccp_alpha=0.0, class_weight=None,\n",
       "                       criterion='gini', max_depth=None, max_features='auto',\n",
       "                       max_leaf_nodes=None, max_samples=None,\n",
       "                       min_impurity_decrease=0.0, min_impurity_split=None,\n",
       "                       min_samples_leaf=1, min_samples_split=2,\n",
       "                       min_weight_fraction_leaf=0.0, n_estimators=100,\n",
       "                       n_jobs=None, oob_score=False, random_state=None,\n",
       "                       verbose=0, warm_start=False)"
      ]
     },
     "execution_count": 413,
     "metadata": {},
     "output_type": "execute_result"
    }
   ],
   "source": [
    "rf2 = RandomForestClassifier()\n",
    "\n",
    "rf2.fit(X_train_best_5, y_train)"
   ]
  },
  {
   "cell_type": "code",
   "execution_count": 415,
   "metadata": {},
   "outputs": [
    {
     "data": {
      "text/html": [
       "<div>\n",
       "<style scoped>\n",
       "    .dataframe tbody tr th:only-of-type {\n",
       "        vertical-align: middle;\n",
       "    }\n",
       "\n",
       "    .dataframe tbody tr th {\n",
       "        vertical-align: top;\n",
       "    }\n",
       "\n",
       "    .dataframe thead th {\n",
       "        text-align: right;\n",
       "    }\n",
       "</style>\n",
       "<table border=\"1\" class=\"dataframe\">\n",
       "  <thead>\n",
       "    <tr style=\"text-align: right;\">\n",
       "      <th></th>\n",
       "      <th>0</th>\n",
       "      <th>1</th>\n",
       "    </tr>\n",
       "  </thead>\n",
       "  <tbody>\n",
       "    <tr>\n",
       "      <th>0</th>\n",
       "      <td>122</td>\n",
       "      <td>1</td>\n",
       "    </tr>\n",
       "    <tr>\n",
       "      <th>1</th>\n",
       "      <td>19</td>\n",
       "      <td>1</td>\n",
       "    </tr>\n",
       "  </tbody>\n",
       "</table>\n",
       "</div>"
      ],
      "text/plain": [
       "     0  1\n",
       "0  122  1\n",
       "1   19  1"
      ]
     },
     "execution_count": 415,
     "metadata": {},
     "output_type": "execute_result"
    }
   ],
   "source": [
    "pd.DataFrame(confusion_matrix(y_valid, rf2.predict(X_valid_best_5)))"
   ]
  },
  {
   "cell_type": "code",
   "execution_count": null,
   "metadata": {},
   "outputs": [],
   "source": [
    "# Using just the top 5 questions gets a much worse result than using all the features\n"
   ]
  },
  {
   "cell_type": "code",
   "execution_count": 416,
   "metadata": {},
   "outputs": [
    {
     "data": {
      "text/plain": [
       "RandomForestClassifier(bootstrap=True, ccp_alpha=0.0, class_weight=None,\n",
       "                       criterion='gini', max_depth=None, max_features='auto',\n",
       "                       max_leaf_nodes=None, max_samples=None,\n",
       "                       min_impurity_decrease=0.0, min_impurity_split=None,\n",
       "                       min_samples_leaf=1, min_samples_split=2,\n",
       "                       min_weight_fraction_leaf=0.0, n_estimators=100,\n",
       "                       n_jobs=None, oob_score=False, random_state=None,\n",
       "                       verbose=0, warm_start=False)"
      ]
     },
     "execution_count": 416,
     "metadata": {},
     "output_type": "execute_result"
    }
   ],
   "source": [
    "# Try all questions:\n",
    "rf3 = RandomForestClassifier()\n",
    "\n",
    "rf3.fit(questions_train_df, y_train)"
   ]
  },
  {
   "cell_type": "code",
   "execution_count": 442,
   "metadata": {},
   "outputs": [],
   "source": [
    "conf_matrix = pd.DataFrame(confusion_matrix(y_test, rf.predict(X_test)))"
   ]
  },
  {
   "cell_type": "code",
   "execution_count": 452,
   "metadata": {},
   "outputs": [
    {
     "data": {
      "text/html": [
       "<div>\n",
       "<style scoped>\n",
       "    .dataframe tbody tr th:only-of-type {\n",
       "        vertical-align: middle;\n",
       "    }\n",
       "\n",
       "    .dataframe tbody tr th {\n",
       "        vertical-align: top;\n",
       "    }\n",
       "\n",
       "    .dataframe thead th {\n",
       "        text-align: right;\n",
       "    }\n",
       "</style>\n",
       "<table border=\"1\" class=\"dataframe\">\n",
       "  <thead>\n",
       "    <tr style=\"text-align: right;\">\n",
       "      <th></th>\n",
       "      <th>actual no</th>\n",
       "      <th>actual yes</th>\n",
       "    </tr>\n",
       "  </thead>\n",
       "  <tbody>\n",
       "    <tr>\n",
       "      <th>predicted no</th>\n",
       "      <td>145</td>\n",
       "      <td>24</td>\n",
       "    </tr>\n",
       "    <tr>\n",
       "      <th>predicted yes</th>\n",
       "      <td>5</td>\n",
       "      <td>4</td>\n",
       "    </tr>\n",
       "  </tbody>\n",
       "</table>\n",
       "</div>"
      ],
      "text/plain": [
       "               actual no  actual yes\n",
       "predicted no         145          24\n",
       "predicted yes          5           4"
      ]
     },
     "execution_count": 452,
     "metadata": {},
     "output_type": "execute_result"
    }
   ],
   "source": [
    "final_matrix = conf_matrix.rename(columns={0:\"predicted no\", 1:'predicted yes'}, \n",
    "                  index={0:\"actual no\", 1:'actual yes'}).swapaxes(0,1)\n",
    "\n",
    "pd.to_cs"
   ]
  },
  {
   "cell_type": "code",
   "execution_count": 371,
   "metadata": {},
   "outputs": [
    {
     "data": {
      "text/plain": [
       "array([[-0.14512307, -0.14512307],\n",
       "       [-0.84491144, -0.84491144],\n",
       "       [-0.19510795, -0.19510795],\n",
       "       ...,\n",
       "       [ 0.15478623,  0.15478623],\n",
       "       [ 1.20446878,  1.20446878],\n",
       "       [-0.79492656, -0.79492656]])"
      ]
     },
     "execution_count": 371,
     "metadata": {},
     "output_type": "execute_result"
    }
   ],
   "source": [
    "X_temp = X_train.to_numpy()\n",
    "\n",
    "fs.transform(X_temp)"
   ]
  },
  {
   "cell_type": "code",
   "execution_count": 435,
   "metadata": {},
   "outputs": [
    {
     "data": {
      "application/vnd.vegalite.v3+json": {
       "$schema": "https://vega.github.io/schema/vega-lite/v3.4.0.json",
       "config": {
        "axis": {
         "titleFontSize": 20
        },
        "mark": {
         "tooltip": null
        },
        "title": {
         "fontSize": 20
        },
        "view": {
         "height": 300,
         "width": 400
        }
       },
       "datasets": {
        "data-c771f53fbd152d545af47339cd7730e6": [
         {
          "fpr": 0,
          "tpr": 0
         },
         {
          "fpr": 0.006666666666666667,
          "tpr": 0
         },
         {
          "fpr": 0.013333333333333334,
          "tpr": 0
         },
         {
          "fpr": 0.013333333333333334,
          "tpr": 0.10714285714285714
         },
         {
          "fpr": 0.02666666666666667,
          "tpr": 0.10714285714285714
         },
         {
          "fpr": 0.03333333333333333,
          "tpr": 0.14285714285714285
         },
         {
          "fpr": 0.04666666666666667,
          "tpr": 0.17857142857142858
         },
         {
          "fpr": 0.05333333333333334,
          "tpr": 0.17857142857142858
         },
         {
          "fpr": 0.05333333333333334,
          "tpr": 0.21428571428571427
         },
         {
          "fpr": 0.06,
          "tpr": 0.21428571428571427
         },
         {
          "fpr": 0.07333333333333333,
          "tpr": 0.25
         },
         {
          "fpr": 0.07333333333333333,
          "tpr": 0.32142857142857145
         },
         {
          "fpr": 0.08666666666666667,
          "tpr": 0.35714285714285715
         },
         {
          "fpr": 0.09333333333333334,
          "tpr": 0.35714285714285715
         },
         {
          "fpr": 0.10666666666666667,
          "tpr": 0.35714285714285715
         },
         {
          "fpr": 0.12,
          "tpr": 0.42857142857142855
         },
         {
          "fpr": 0.13333333333333333,
          "tpr": 0.4642857142857143
         },
         {
          "fpr": 0.14666666666666667,
          "tpr": 0.4642857142857143
         },
         {
          "fpr": 0.17333333333333334,
          "tpr": 0.5
         },
         {
          "fpr": 0.19333333333333333,
          "tpr": 0.5
         },
         {
          "fpr": 0.22,
          "tpr": 0.5714285714285714
         },
         {
          "fpr": 0.24,
          "tpr": 0.6071428571428571
         },
         {
          "fpr": 0.2733333333333333,
          "tpr": 0.6071428571428571
         },
         {
          "fpr": 0.31333333333333335,
          "tpr": 0.6428571428571429
         },
         {
          "fpr": 0.34,
          "tpr": 0.6428571428571429
         },
         {
          "fpr": 0.37333333333333335,
          "tpr": 0.7142857142857143
         },
         {
          "fpr": 0.37333333333333335,
          "tpr": 0.75
         },
         {
          "fpr": 0.38666666666666666,
          "tpr": 0.75
         },
         {
          "fpr": 0.41333333333333333,
          "tpr": 0.75
         },
         {
          "fpr": 0.4266666666666667,
          "tpr": 0.75
         },
         {
          "fpr": 0.4533333333333333,
          "tpr": 0.7857142857142857
         },
         {
          "fpr": 0.49333333333333335,
          "tpr": 0.8571428571428571
         },
         {
          "fpr": 0.54,
          "tpr": 0.8571428571428571
         },
         {
          "fpr": 0.5466666666666666,
          "tpr": 0.8571428571428571
         },
         {
          "fpr": 0.56,
          "tpr": 0.8571428571428571
         },
         {
          "fpr": 0.5866666666666667,
          "tpr": 0.8571428571428571
         },
         {
          "fpr": 0.64,
          "tpr": 0.9285714285714286
         },
         {
          "fpr": 0.6733333333333333,
          "tpr": 0.9285714285714286
         },
         {
          "fpr": 0.72,
          "tpr": 0.9285714285714286
         },
         {
          "fpr": 0.7866666666666666,
          "tpr": 0.9285714285714286
         },
         {
          "fpr": 0.8266666666666667,
          "tpr": 0.9642857142857143
         },
         {
          "fpr": 0.8866666666666667,
          "tpr": 0.9642857142857143
         },
         {
          "fpr": 0.9466666666666667,
          "tpr": 1
         },
         {
          "fpr": 1,
          "tpr": 1
         }
        ],
        "data-f4809202ef9fd364138320dbf6e2580f": [
         {
          "end": 0,
          "start": 0
         },
         {
          "end": 1,
          "start": 1
         }
        ]
       },
       "layer": [
        {
         "data": {
          "name": "data-c771f53fbd152d545af47339cd7730e6"
         },
         "encoding": {
          "x": {
           "field": "fpr",
           "type": "quantitative"
          },
          "y": {
           "field": "tpr",
           "type": "quantitative"
          }
         },
         "mark": "line"
        },
        {
         "data": {
          "name": "data-f4809202ef9fd364138320dbf6e2580f"
         },
         "encoding": {
          "x": {
           "axis": {
            "title": "False Positive Rate"
           },
           "field": "start",
           "type": "quantitative"
          },
          "y": {
           "axis": {
            "title": "True Positive Rate"
           },
           "field": "end",
           "type": "quantitative"
          }
         },
         "mark": {
          "color": "orange",
          "strokeDash": [
           5,
           5
          ],
          "type": "line"
         }
        }
       ],
       "title": "ROC Curve"
      },
      "image/png": "[encoded data removed]",
      "text/plain": [
       "<VegaLite 3 object>\n",
       "\n",
       "If you see this message, it means the renderer has not been properly enabled\n",
       "for the frontend that you are using. For more information, see\n",
       "https://altair-viz.github.io/user_guide/troubleshooting.html\n"
      ]
     },
     "execution_count": 435,
     "metadata": {},
     "output_type": "execute_result"
    }
   ],
   "source": [
    "# ROC curve\n",
    "\n",
    "fpr, tpr, _ = roc_curve(y_test, rf.predict_proba(X_test)[:,1])\n",
    "\n",
    "roc_df = pd.DataFrame({\"fpr\":fpr, \"tpr\":tpr})\n",
    "\n",
    "line_df = pd.DataFrame({\"start\":[0,1], \"end\":[0,1]})\n",
    "\n",
    "roc = alt.Chart(roc_df).mark_line().encode(\n",
    "    x = alt.X(\"fpr:Q\"),\n",
    "    y = alt.Y(\"tpr:Q\")\n",
    ")\n",
    "    \n",
    "line = alt.Chart(line_df).mark_line(strokeDash=[5,5], color=\"orange\").encode(\n",
    "    x = alt.X(\"start:Q\", axis=alt.Axis(title=\"False Positive Rate\")),\n",
    "    y = alt.Y(\"end:Q\", axis=alt.Axis(title=\"True Positive Rate\"))\n",
    ")\n",
    "    \n",
    "(roc + line).configure_axis(titleFontSize=20).properties(title=\"ROC Curve\").configure_title(fontSize=20)"
   ]
  },
  {
   "cell_type": "code",
   "execution_count": null,
   "metadata": {},
   "outputs": [],
   "source": []
  }
 ],
 "metadata": {
  "kernelspec": {
   "display_name": "Python 3",
   "language": "python",
   "name": "python3"
  },
  "language_info": {
   "codemirror_mode": {
    "name": "ipython",
    "version": 3
   },
   "file_extension": ".py",
   "mimetype": "text/x-python",
   "name": "python",
   "nbconvert_exporter": "python",
   "pygments_lexer": "ipython3",
   "version": "3.7.4"
  }
 },
 "nbformat": 4,
 "nbformat_minor": 4
}
