{
 "cells": [
  {
   "cell_type": "code",
   "execution_count": 1,
   "metadata": {},
   "outputs": [],
   "source": [
    "import pandas as pd\n",
    "import numpy as np\n",
    "\n",
    "# Preprocessing\n",
    "from sklearn.preprocessing import StandardScaler, OneHotEncoder, LabelEncoder, PolynomialFeatures\n",
    "from sklearn.compose import ColumnTransformer\n",
    "\n",
    "# Models\n",
    "from sklearn.tree import DecisionTreeClassifier\n",
    "from sklearn.ensemble import RandomForestClassifier\n",
    "from sklearn.linear_model import LogisticRegression\n",
    "from sklearn.svm import SVC\n",
    "from sklearn.neighbors import KNeighborsClassifier\n",
    "\n",
    "# Model selection\n",
    "from sklearn.model_selection import GridSearchCV\n",
    "from sklearn.pipeline import Pipeline"
   ]
  },
  {
   "cell_type": "code",
   "execution_count": 2,
   "metadata": {},
   "outputs": [],
   "source": [
    "X_train = pd.read_csv(\"data/clean-data/Xtrain-clean-autism-screening.csv\", index_col=0)\n",
    "y_train = pd.read_csv(\"data/clean-data/ytrain-clean-autism-screening.csv\", index_col=0)\n",
    "X_test = pd.read_csv(\"data/clean-data/Xtest-clean-autism-screening.csv\", index_col=0)\n",
    "y_test = pd.read_csv(\"data/clean-data/ytest-clean-autism-screening.csv\", index_col=0)\n"
   ]
  },
  {
   "cell_type": "code",
   "execution_count": 3,
   "metadata": {},
   "outputs": [],
   "source": [
    "numeric_features = [\"age\", \n",
    "                    \"result\"]\n",
    "\n",
    "one_hot_features = [\"gender\", \n",
    "                    \"ethnicity\", \n",
    "                    \"jaundice\", \n",
    "                    \"country_of_res\", \n",
    "                    \"used_app_before\", \n",
    "                    \"age_desc\", \n",
    "                    \"relation\",\n",
    "                    \"Class/ASD\"]\n",
    "\n",
    "other_columns = list(X_train.columns[0:10])\n",
    "\n",
    "\n"
   ]
  },
  {
   "cell_type": "code",
   "execution_count": 4,
   "metadata": {},
   "outputs": [],
   "source": [
    "preprocessor = ColumnTransformer(sparse_threshold=0,\n",
    "    transformers=[\n",
    "        (\"scale\", \n",
    "         StandardScaler(), \n",
    "         numeric_features),\n",
    "        (\"one_hot\", \n",
    "         OneHotEncoder(drop=None, \n",
    "                       handle_unknown=\"ignore\"), \n",
    "         one_hot_features)\n",
    "    ])"
   ]
  },
  {
   "cell_type": "code",
   "execution_count": 5,
   "metadata": {},
   "outputs": [],
   "source": [
    "X_train_temp = pd.DataFrame(preprocessor.fit_transform(X_train), \n",
    "            index = X_train.index,\n",
    "            columns = (numeric_features + \n",
    "                       list(preprocessor\n",
    "                           .named_transformers_[\"one_hot\"]\n",
    "                           .get_feature_names(one_hot_features)))\n",
    "                      )\n",
    "\n",
    "    \n",
    "X_test_temp = pd.DataFrame(preprocessor.transform(X_test),\n",
    "                     index = X_test.index,\n",
    "                     columns = X_train_temp.columns)\n",
    "\n",
    "X_train = X_train_temp.join(X_train[other_columns])\n",
    "X_test = X_test_temp.join(X_test[other_columns])"
   ]
  },
  {
   "cell_type": "code",
   "execution_count": 6,
   "metadata": {},
   "outputs": [],
   "source": [
    "le = LabelEncoder()\n",
    "\n",
    "y_train = le.fit_transform(y_train.to_numpy().ravel())\n",
    "y_test = le.transform(y_test.to_numpy().ravel())"
   ]
  },
  {
   "cell_type": "code",
   "execution_count": 25,
   "metadata": {},
   "outputs": [
    {
     "name": "stdout",
     "output_type": "stream",
     "text": [
      "LR score on train set: 0.8497191011235955\n",
      "LR score on test set: 0.8539325842696629\n",
      "DT score on train set: 1.0\n",
      "DT score on test set: 0.7415730337078652\n",
      "RF score on train set: 1.0\n",
      "RF score on test set: 0.848314606741573\n",
      "SVM score on train set: 0.8455056179775281\n",
      "SVM score on test set: 0.8426966292134831\n",
      "KNN score on train set: 0.8581460674157303\n",
      "KNN score on test set: 0.8314606741573034\n"
     ]
    }
   ],
   "source": [
    "lr = LogisticRegression()\n",
    "print(\"LR score on train set:\", lr.fit(X_train, y_train).score(X_train, y_train))\n",
    "print(\"LR score on test set:\", lr.score(X_test, y_test))\n",
    "\n",
    "dt = DecisionTreeClassifier()\n",
    "print(\"DT score on train set:\", dt.fit(X_train, y_train).score(X_train, y_train))\n",
    "print(\"DT score on test set:\", dt.score(X_test, y_test))\n",
    "\n",
    "rf = RandomForestClassifier()\n",
    "print(\"RF score on train set:\", rf.fit(X_train, y_train).score(X_train, y_train))\n",
    "print(\"RF score on test set:\", rf.score(X_test, y_test))\n",
    "\n",
    "svm = SVC()\n",
    "print(\"SVM score on train set:\", svm.fit(X_train, y_train).score(X_train, y_train))\n",
    "print(\"SVM score on test set:\", svm.score(X_test, y_test))\n",
    "\n",
    "knn = KNeighborsClassifier()\n",
    "print(\"KNN score on train set:\", knn.fit(X_train, y_train).score(X_train, y_train))\n",
    "print(\"KNN score on test set:\", knn.score(X_test, y_test))"
   ]
  },
  {
   "cell_type": "code",
   "execution_count": 45,
   "metadata": {},
   "outputs": [
    {
     "name": "stdout",
     "output_type": "stream",
     "text": [
      "LogisticRegression(C=1e-06, class_weight=None, dual=False, fit_intercept=True,\n",
      "                   intercept_scaling=1, l1_ratio=None, max_iter=50,\n",
      "                   multi_class='auto', n_jobs=None, penalty='l2',\n",
      "                   random_state=None, solver='lbfgs', tol=0.0001, verbose=0,\n",
      "                   warm_start=False)\n",
      "{'C': 1e-06, 'max_iter': 50}\n",
      "0.8455007824726135 \n",
      "\n",
      "\n",
      "DecisionTreeClassifier(ccp_alpha=0.0, class_weight=None, criterion='gini',\n",
      "                       max_depth=1, max_features=3, max_leaf_nodes=None,\n",
      "                       min_impurity_decrease=0.0, min_impurity_split=None,\n",
      "                       min_samples_leaf=1, min_samples_split=2,\n",
      "                       min_weight_fraction_leaf=0.0, presort='deprecated',\n",
      "                       random_state=None, splitter='best')\n",
      "{'max_depth': 1, 'max_features': 3}\n",
      "0.8455007824726135 \n",
      "\n",
      "\n",
      "RandomForestClassifier(bootstrap=True, ccp_alpha=0.0, class_weight=None,\n",
      "                       criterion='gini', max_depth=None, max_features=3,\n",
      "                       max_leaf_nodes=None, max_samples=None,\n",
      "                       min_impurity_decrease=0, min_impurity_split=None,\n",
      "                       min_samples_leaf=1, min_samples_split=2,\n",
      "                       min_weight_fraction_leaf=0.0, n_estimators=100,\n",
      "                       n_jobs=None, oob_score=False, random_state=None,\n",
      "                       verbose=0, warm_start=False)\n",
      "{'max_features': 3, 'min_impurity_decrease': 0}\n",
      "0.8511150234741784 \n",
      "\n",
      "\n",
      "SVC(C=1, break_ties=False, cache_size=200, class_weight=None, coef0=0.0,\n",
      "    decision_function_shape='ovr', degree=3, gamma=100, kernel='rbf',\n",
      "    max_iter=-1, probability=False, random_state=None, shrinking=True,\n",
      "    tol=0.001, verbose=False)\n",
      "{'C': 1, 'gamma': 100}\n",
      "0.8482981220657276 \n",
      "\n",
      "\n",
      "KNeighborsClassifier(algorithm='auto', leaf_size=30, metric='minkowski',\n",
      "                     metric_params=None, n_jobs=None, n_neighbors=20, p=2,\n",
      "                     weights='uniform')\n",
      "{'algorithm': 'auto', 'n_neighbors': 20}\n",
      "0.8455007824726135 \n",
      "\n",
      "\n"
     ]
    }
   ],
   "source": [
    "## Pipeline\n",
    "\n",
    "estimators = [lr, dt, rf, svm, knn]\n",
    "\n",
    "# pipe_steps = [('poly', PolynomialFeatures(...)),\n",
    "#               ('lr', LogisticRegression(...)),\n",
    "#               ('dt', DecisionTreeClassifier(...)),\n",
    "#               ('rf', RandomForestClassifier(...)),\n",
    "#               ('svm', SVC(...)),\n",
    "#               ('knn', KNeighborsClassifier(...))]\n",
    "             \n",
    "# pipe = Pipeline(steps = pipe_steps)\n",
    "\n",
    "# 'linear' kernel takes an insanely long time??\n",
    "# https://datascience.stackexchange.com/questions/989/svm-using-scikit-learn-runs-endlessly-and-never-completes-execution\n",
    "\n",
    "params = [{'C':[0.000001, 0.00001, 0.0001, 0.001, 0.01, 0.1, 1, 10, 100, 1000],\n",
    "         'max_iter': [50, 100, 200, 250, 300]},\n",
    "         {'max_depth': [1, 5, 10, 15, 20, 25, None],\n",
    "         'max_features': [3, 5, 10, 20, 25, 50, 100, None]},\n",
    "         {'min_impurity_decrease': [0, 0.25, 0.5],\n",
    "         'max_features': [3, 5, 10, 20, 50, 100, 'auto']},\n",
    "         {'C':[0.000001, 0.00001, 0.0001, 0.001, 0.01, 0.1, 1, 10, 100, 1000],\n",
    "         'gamma':[0.000001, 0.00001, 0.0001, 0.001, 0.01, 0.1, 1, 10, 100]},\n",
    "         {'n_neighbors': [2, 5, 10, 15, 20, 50, 100],\n",
    "         'algorithm': ['auto', 'brute']}]\n",
    "\n",
    "for i in range(len(estimators)):\n",
    "    search = GridSearchCV(estimator=estimators[i], \n",
    "                          param_grid=params[i],\n",
    "                          cv = 10,\n",
    "                          n_jobs=-1)\n",
    "    \n",
    "    search_object = search.fit(X_train, y_train)\n",
    "    \n",
    "    print(search_object.best_estimator_)\n",
    "    print(search_object.best_params_)\n",
    "    print(search_object.best_score_, \"\\n\\n\")"
   ]
  },
  {
   "cell_type": "code",
   "execution_count": 47,
   "metadata": {},
   "outputs": [
    {
     "data": {
      "text/plain": [
       "1.0"
      ]
     },
     "execution_count": 47,
     "metadata": {},
     "output_type": "execute_result"
    }
   ],
   "source": [
    "rf = RandomForestClassifier(max_features=3, min_impurity_decrease=0)\n",
    "rf.fit(X_train, y_train).score(X_train, y_train)\n"
   ]
  },
  {
   "cell_type": "code",
   "execution_count": 48,
   "metadata": {},
   "outputs": [
    {
     "data": {
      "text/plain": [
       "0.8314606741573034"
      ]
     },
     "execution_count": 48,
     "metadata": {},
     "output_type": "execute_result"
    }
   ],
   "source": [
    "rf.score(X_test, y_test)"
   ]
  },
  {
   "cell_type": "code",
   "execution_count": null,
   "metadata": {},
   "outputs": [],
   "source": []
  }
 ],
 "metadata": {
  "kernelspec": {
   "display_name": "Python 3",
   "language": "python",
   "name": "python3"
  },
  "language_info": {
   "codemirror_mode": {
    "name": "ipython",
    "version": 3
   },
   "file_extension": ".py",
   "mimetype": "text/x-python",
   "name": "python",
   "nbconvert_exporter": "python",
   "pygments_lexer": "ipython3",
   "version": "3.7.4"
  }
 },
 "nbformat": 4,
 "nbformat_minor": 4
}
