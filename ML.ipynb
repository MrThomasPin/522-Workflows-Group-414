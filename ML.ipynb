{
 "cells": [
  {
   "cell_type": "code",
   "execution_count": 441,
   "metadata": {},
   "outputs": [],
   "source": [
    "import pandas as pd\n",
    "import numpy as np\n",
    "\n",
    "# Preprocessing\n",
    "from sklearn.preprocessing import StandardScaler, OneHotEncoder, LabelEncoder, PolynomialFeatures\n",
    "from sklearn.compose import ColumnTransformer\n",
    "\n",
    "# Models\n",
    "from sklearn.tree import DecisionTreeClassifier\n",
    "from sklearn.ensemble import RandomForestClassifier\n",
    "from sklearn.linear_model import LogisticRegression, LinearRegression\n",
    "from sklearn.svm import SVC\n",
    "from sklearn.neighbors import KNeighborsClassifier\n",
    "\n",
    "# Metrics\n",
    "from sklearn.metrics import mean_squared_error, confusion_matrix, classification_report, roc_curve\n",
    "\n",
    "# Model selection\n",
    "from sklearn.model_selection import GridSearchCV, train_test_split, cross_val_score\n",
    "from sklearn.pipeline import Pipeline\n",
    "\n",
    "# Feature selection\n",
    "from sklearn.feature_selection import RFE\n",
    "\n",
    "# Plotting\n",
    "import altair as alt"
   ]
  },
  {
   "cell_type": "code",
   "execution_count": 199,
   "metadata": {},
   "outputs": [],
   "source": [
    "X_train = pd.read_csv(\"data/clean-data/Xtrain-clean-autism-screening.csv\", index_col=0)\n",
    "y_train = pd.read_csv(\"data/clean-data/ytrain-clean-autism-screening.csv\", index_col=0)\n",
    "X_test = pd.read_csv(\"data/clean-data/Xtest-clean-autism-screening.csv\", index_col=0)\n",
    "y_test = pd.read_csv(\"data/clean-data/ytest-clean-autism-screening.csv\", index_col=0)\n"
   ]
  },
  {
   "cell_type": "code",
   "execution_count": 200,
   "metadata": {},
   "outputs": [],
   "source": [
    "# Make validation set \n",
    "\n",
    "X_train, X_valid, y_train, y_valid = train_test_split(X_train, y_train, test_size=0.2, random_state=414)"
   ]
  },
  {
   "cell_type": "code",
   "execution_count": 201,
   "metadata": {},
   "outputs": [],
   "source": [
    "numeric_features = [\"age\", \n",
    "                    \"result\"]\n",
    "\n",
    "one_hot_features = [\"gender\", \n",
    "                    \"ethnicity\", \n",
    "                    \"jaundice\", \n",
    "                    \"country_of_res\", \n",
    "                    \"used_app_before\", \n",
    "                    \"age_desc\", \n",
    "                    \"relation\",\n",
    "                    \"Class/ASD\"]\n",
    "\n",
    "other_columns = list(X_train.columns[0:10])\n",
    "\n",
    "\n"
   ]
  },
  {
   "cell_type": "code",
   "execution_count": 202,
   "metadata": {},
   "outputs": [],
   "source": [
    "preprocessor = ColumnTransformer(sparse_threshold=0,\n",
    "    transformers=[\n",
    "        (\"scale\", \n",
    "         StandardScaler(), \n",
    "         numeric_features),\n",
    "        (\"one_hot\", \n",
    "         OneHotEncoder(drop=None, \n",
    "                       handle_unknown=\"ignore\"), \n",
    "         one_hot_features)\n",
    "    ])"
   ]
  },
  {
   "cell_type": "code",
   "execution_count": 203,
   "metadata": {},
   "outputs": [],
   "source": [
    "X_train_temp = pd.DataFrame(preprocessor.fit_transform(X_train), \n",
    "            index = X_train.index,\n",
    "            columns = (numeric_features + \n",
    "                       list(preprocessor\n",
    "                           .named_transformers_[\"one_hot\"]\n",
    "                           .get_feature_names(one_hot_features)))\n",
    "                      )\n",
    "\n",
    "X_test_temp = pd.DataFrame(preprocessor.transform(X_test),\n",
    "                     index = X_test.index,\n",
    "                     columns = X_train_temp.columns)\n",
    "\n",
    "X_valid_temp = pd.DataFrame(preprocessor.transform(X_valid),\n",
    "                     index = X_valid.index,\n",
    "                     columns = X_train_temp.columns)\n",
    "\n",
    "X_train = X_train_temp.join(X_train[other_columns])\n",
    "X_test = X_test_temp.join(X_test[other_columns])\n",
    "X_valid = X_valid_temp.join(X_valid[other_columns])"
   ]
  },
  {
   "cell_type": "code",
   "execution_count": 204,
   "metadata": {},
   "outputs": [],
   "source": [
    "le = LabelEncoder()\n",
    "\n",
    "y_train = le.fit_transform(y_train.to_numpy().ravel())\n",
    "y_test = le.transform(y_test.to_numpy().ravel())\n",
    "y_valid = le.transform(y_valid.to_numpy().ravel())"
   ]
  },
  {
   "cell_type": "code",
   "execution_count": 487,
   "metadata": {},
   "outputs": [
    {
     "name": "stderr",
     "output_type": "stream",
     "text": [
      "/Users/matt/anaconda3/lib/python3.7/site-packages/sklearn/linear_model/_logistic.py:939: ConvergenceWarning: lbfgs failed to converge (status=1):\n",
      "STOP: TOTAL NO. of ITERATIONS REACHED LIMIT.\n",
      "\n",
      "Increase the number of iterations (max_iter) or scale the data as shown in:\n",
      "    https://scikit-learn.org/stable/modules/preprocessing.html.\n",
      "Please also refer to the documentation for alternative solver options:\n",
      "    https://scikit-learn.org/stable/modules/linear_model.html#logistic-regression\n",
      "  extra_warning_msg=_LOGISTIC_SOLVER_CONVERGENCE_MSG)\n"
     ]
    }
   ],
   "source": [
    "## Trying Gridsearch on different models to find best\n",
    "\n",
    "## Initialize models\n",
    "lr = LogisticRegression()\n",
    "dt = DecisionTreeClassifier(random_state=414)\n",
    "rf = RandomForestClassifier(random_state=414)\n",
    "svm = SVC(random_state=414)\n",
    "knn = KNeighborsClassifier()\n",
    "\n",
    "# Make list for models and a list to store their values\n",
    "estimators = [lr, dt, rf, svm, knn]\n",
    "best_parameters = []\n",
    "best_precision_scores = []\n",
    "\n",
    "# Make list of dictionaries for parameters\n",
    "params = [{'C':[0.000001, 0.00001, 0.0001, 0.001, 0.01, 0.1, 1, 10, 100, 1000],\n",
    "         'penalty': ['l1', 'l2']},\n",
    "         {'max_depth': [1, 5, 10, 15, 20, 25, None],\n",
    "         'max_features': [3, 5, 10, 20, 25, 50, 100, None]},\n",
    "         {'min_impurity_decrease': [0, 0.25, 0.5],\n",
    "         'max_features': [3, 5, 10, 20, 50, 100, 'auto']},\n",
    "         {'C':[0.000001, 0.00001, 0.0001, 0.001, 0.01, 0.1, 1, 10, 100, 1000],\n",
    "         'gamma':[0.000001, 0.00001, 0.0001, 0.001, 0.01, 0.1, 1, 10, 100]},\n",
    "         {'n_neighbors': [2, 5, 10, 15, 20, 50, 100],\n",
    "         'algorithm': ['auto', 'brute']}]\n",
    "\n",
    "# Run for loop to best parameters for each model\n",
    "# Scoring = recall to reduce false positives\n",
    "for i in range(len(estimators)):\n",
    "    search = GridSearchCV(estimator=estimators[i], \n",
    "                          param_grid=params[i],\n",
    "                          cv = 10,\n",
    "                          n_jobs=-1,\n",
    "                         scoring='recall')\n",
    "    \n",
    "    search_object = search.fit(X_train, y_train)\n",
    "    \n",
    "    # Store the output on each iteration\n",
    "    best_parameters.append(search_object.best_params_)\n",
    "    best_precision_scores.append(search_object.best_score_)"
   ]
  },
  {
   "cell_type": "code",
   "execution_count": 488,
   "metadata": {},
   "outputs": [
    {
     "data": {
      "text/plain": [
       "{'max_depth': 15, 'max_features': 100}"
      ]
     },
     "execution_count": 488,
     "metadata": {},
     "output_type": "execute_result"
    }
   ],
   "source": [
    "best_parameters[np.argmax(best_precision_scores)]\n"
   ]
  },
  {
   "cell_type": "code",
   "execution_count": 193,
   "metadata": {},
   "outputs": [],
   "source": [
    "# the best precision score comes from a decision tree classifier with max_depth=15 and max_features=100\n",
    "# and precision = 0.46"
   ]
  },
  {
   "cell_type": "code",
   "execution_count": 489,
   "metadata": {},
   "outputs": [
    {
     "data": {
      "text/plain": [
       "0.9912126537785588"
      ]
     },
     "execution_count": 489,
     "metadata": {},
     "output_type": "execute_result"
    }
   ],
   "source": [
    "dt = DecisionTreeClassifier(max_depth=15, max_features=100)\n",
    "dt.fit(X_train, y_train).score(X_train, y_train)\n"
   ]
  },
  {
   "cell_type": "code",
   "execution_count": 420,
   "metadata": {},
   "outputs": [],
   "source": [
    "# It gets almost perfect on the train set"
   ]
  },
  {
   "cell_type": "code",
   "execution_count": 490,
   "metadata": {},
   "outputs": [
    {
     "data": {
      "text/plain": [
       "0.8111888111888111"
      ]
     },
     "execution_count": 490,
     "metadata": {},
     "output_type": "execute_result"
    }
   ],
   "source": [
    "dt.score(X_valid, y_valid)"
   ]
  },
  {
   "cell_type": "code",
   "execution_count": 475,
   "metadata": {},
   "outputs": [],
   "source": [
    "# and ~81% on the validation set"
   ]
  },
  {
   "cell_type": "code",
   "execution_count": 492,
   "metadata": {},
   "outputs": [],
   "source": [
    "prelim_matrix = pd.DataFrame(confusion_matrix(y_valid, dt.predict(X_valid)))\n",
    "\n",
    "\n",
    "preliminary_matrix = prelim_matrix.rename(columns={0:\"predicted no\", 1:'predicted yes'}, \n",
    "                  index={0:\"actual no\", 1:'actual yes'}).swapaxes(0,1)\n",
    "\n",
    "preliminary_matrix.to_csv('data/preliminary_matrix.csv')"
   ]
  },
  {
   "cell_type": "code",
   "execution_count": 494,
   "metadata": {},
   "outputs": [],
   "source": [
    "#print(classification_report(y_test, dt.predict(X_test)))"
   ]
  },
  {
   "cell_type": "code",
   "execution_count": 495,
   "metadata": {},
   "outputs": [],
   "source": [
    "## Subset just the questions:\n",
    "\n",
    "questions = ['A1_Score',\n",
    "       'A2_Score',\n",
    "       'A3_Score',\n",
    "       'A4_Score',\n",
    "       'A5_Score',\n",
    "       'A6_Score',\n",
    "       'A7_Score',\n",
    "       'A8_Score',\n",
    "       'A9_Score',\n",
    "       'A10_Score']\n",
    "\n",
    "questions_train_df = X_train[questions]\n",
    "\n",
    "questions_valid_df = X_valid[questions]\n",
    "\n",
    "questions_test_df = X_test[questions]"
   ]
  },
  {
   "cell_type": "code",
   "execution_count": null,
   "metadata": {},
   "outputs": [],
   "source": []
  },
  {
   "cell_type": "code",
   "execution_count": 502,
   "metadata": {},
   "outputs": [],
   "source": [
    "# Attribution: Varada Kolhatkar\n",
    "\n",
    "class ForwardSelection:\n",
    "    def __init__(self, \n",
    "                 model, \n",
    "                 min_features=None, \n",
    "                 max_features=None, \n",
    "                 scoring=None, \n",
    "                 cv=None):\n",
    "        \"\"\"\n",
    "        WRITE YOUR DOCSTRING\n",
    "        \"\"\"\n",
    "        self.max_features = max_features\n",
    "        if min_features is None:\n",
    "            self.min_features = 1\n",
    "        else:\n",
    "            self.min_features = min_features\n",
    "\n",
    "        self.model = model\n",
    "        self.scoring = scoring\n",
    "        self.cv = cv\n",
    "        self.ftr_ = []\n",
    "        return\n",
    "    \n",
    "    def fit(self, X, y):\n",
    "        \"\"\"\n",
    "        WRITE YOUR DOCSTRING        \n",
    "        \"\"\"\n",
    "        \n",
    "        error = np.inf\n",
    "        best = None\n",
    "        feature_index = list(range(0, (X.shape[1])))\n",
    "        errors = []\n",
    "        \n",
    "        X_train, X_test, y_train, y_test = train_test_split(X, y, test_size=0.2, random_state=514)\n",
    "\n",
    "        X_temp = X_train\n",
    "\n",
    "        while error > 0.0:\n",
    "            if best is not None:\n",
    "                if best not in feature_index:\n",
    "                    del feature_index[-2]\n",
    "                    break\n",
    "                feature_index.remove(best)\n",
    "\n",
    "            for i in feature_index:\n",
    "                self.model.fit(X_temp[:, self.ftr_ + [i]], y_train)\n",
    "                temp_error = 1-np.mean(cross_val_score(self.model, X[:, self.ftr_ + [i]], y, scoring='f1'))\n",
    "\n",
    "                if temp_error < error:\n",
    "                    error = temp_error\n",
    "                    best = i\n",
    "\n",
    "            errors.append(round(error, 3))\n",
    "\n",
    "            if len(errors) > 2:\n",
    "                if errors[-1] >= errors[-2]:\n",
    "                    break\n",
    "\n",
    "            if self.max_features is not None:\n",
    "                if len(errors) > self.max_features:\n",
    "                    break\n",
    "\n",
    "            self.ftr_.append(best)\n",
    "\n",
    "\n",
    "    def transform(self, X, y=None):\n",
    "        \"\"\"\n",
    "        WRITE YOUR DOCSTRING        \n",
    "        \"\"\"\n",
    "        return X[:, self.ftr_]\n",
    "    "
   ]
  },
  {
   "cell_type": "code",
   "execution_count": 503,
   "metadata": {},
   "outputs": [],
   "source": [
    "fs = ForwardSelection(DecisionTreeClassifier(), max_features=None)"
   ]
  },
  {
   "cell_type": "code",
   "execution_count": 504,
   "metadata": {},
   "outputs": [],
   "source": [
    "# np.mean(cross_val_score(dt, questions_train_df, y_train, scoring='precision'))"
   ]
  },
  {
   "cell_type": "code",
   "execution_count": 505,
   "metadata": {},
   "outputs": [],
   "source": [
    "fs.fit(questions_train_df.to_numpy(), y_train)"
   ]
  },
  {
   "cell_type": "code",
   "execution_count": 506,
   "metadata": {},
   "outputs": [
    {
     "data": {
      "text/plain": [
       "[0, 0]"
      ]
     },
     "execution_count": 506,
     "metadata": {},
     "output_type": "execute_result"
    }
   ],
   "source": [
    "fs.ftr_"
   ]
  },
  {
   "cell_type": "code",
   "execution_count": 367,
   "metadata": {},
   "outputs": [],
   "source": [
    "# No single one question is better than any other one question so forward selection won't work\n",
    "# Or it just won't work with a decision tree\n"
   ]
  },
  {
   "cell_type": "code",
   "execution_count": 508,
   "metadata": {},
   "outputs": [
    {
     "data": {
      "text/plain": [
       "RFE(estimator=DecisionTreeClassifier(ccp_alpha=0.0, class_weight=None,\n",
       "                                     criterion='gini', max_depth=None,\n",
       "                                     max_features=None, max_leaf_nodes=None,\n",
       "                                     min_impurity_decrease=0.0,\n",
       "                                     min_impurity_split=None,\n",
       "                                     min_samples_leaf=1, min_samples_split=2,\n",
       "                                     min_weight_fraction_leaf=0.0,\n",
       "                                     presort='deprecated', random_state=None,\n",
       "                                     splitter='best'),\n",
       "    n_features_to_select=5, step=1, verbose=0)"
      ]
     },
     "execution_count": 508,
     "metadata": {},
     "output_type": "execute_result"
    }
   ],
   "source": [
    "rfe =RFE(DecisionTreeClassifier(), n_features_to_select=5)\n",
    "\n",
    "rfe.fit(questions_train_df, y_train)"
   ]
  },
  {
   "cell_type": "code",
   "execution_count": 514,
   "metadata": {},
   "outputs": [],
   "source": [
    "# The top 5 questions:\n",
    "\n",
    "top_five = np.where(rfe.ranking_ == 1)[0]"
   ]
  },
  {
   "cell_type": "code",
   "execution_count": 515,
   "metadata": {},
   "outputs": [],
   "source": [
    "X_train_best_5 = questions_train_df.to_numpy()[:,top_five]\n",
    "X_test_best_5 = questions_test_df.to_numpy()[:,top_five]\n",
    "X_valid_best_5 = questions_valid_df.to_numpy()[:,top_five]"
   ]
  },
  {
   "cell_type": "code",
   "execution_count": 516,
   "metadata": {},
   "outputs": [
    {
     "data": {
      "text/plain": [
       "DecisionTreeClassifier(ccp_alpha=0.0, class_weight=None, criterion='gini',\n",
       "                       max_depth=None, max_features=None, max_leaf_nodes=None,\n",
       "                       min_impurity_decrease=0.0, min_impurity_split=None,\n",
       "                       min_samples_leaf=1, min_samples_split=2,\n",
       "                       min_weight_fraction_leaf=0.0, presort='deprecated',\n",
       "                       random_state=None, splitter='best')"
      ]
     },
     "execution_count": 516,
     "metadata": {},
     "output_type": "execute_result"
    }
   ],
   "source": [
    "dt2 = DecisionTreeClassifier()\n",
    "\n",
    "dt2.fit(X_train_best_5, y_train)"
   ]
  },
  {
   "cell_type": "code",
   "execution_count": 517,
   "metadata": {},
   "outputs": [
    {
     "data": {
      "text/html": [
       "<div>\n",
       "<style scoped>\n",
       "    .dataframe tbody tr th:only-of-type {\n",
       "        vertical-align: middle;\n",
       "    }\n",
       "\n",
       "    .dataframe tbody tr th {\n",
       "        vertical-align: top;\n",
       "    }\n",
       "\n",
       "    .dataframe thead th {\n",
       "        text-align: right;\n",
       "    }\n",
       "</style>\n",
       "<table border=\"1\" class=\"dataframe\">\n",
       "  <thead>\n",
       "    <tr style=\"text-align: right;\">\n",
       "      <th></th>\n",
       "      <th>0</th>\n",
       "      <th>1</th>\n",
       "    </tr>\n",
       "  </thead>\n",
       "  <tbody>\n",
       "    <tr>\n",
       "      <th>0</th>\n",
       "      <td>121</td>\n",
       "      <td>2</td>\n",
       "    </tr>\n",
       "    <tr>\n",
       "      <th>1</th>\n",
       "      <td>20</td>\n",
       "      <td>0</td>\n",
       "    </tr>\n",
       "  </tbody>\n",
       "</table>\n",
       "</div>"
      ],
      "text/plain": [
       "     0  1\n",
       "0  121  2\n",
       "1   20  0"
      ]
     },
     "execution_count": 517,
     "metadata": {},
     "output_type": "execute_result"
    }
   ],
   "source": [
    "pd.DataFrame(confusion_matrix(y_valid, dt2.predict(X_valid_best_5)))"
   ]
  },
  {
   "cell_type": "code",
   "execution_count": null,
   "metadata": {},
   "outputs": [],
   "source": [
    "# Using just the top 5 questions gets a much worse result than using all the features\n"
   ]
  },
  {
   "cell_type": "code",
   "execution_count": 518,
   "metadata": {},
   "outputs": [
    {
     "data": {
      "text/plain": [
       "DecisionTreeClassifier(ccp_alpha=0.0, class_weight=None, criterion='gini',\n",
       "                       max_depth=None, max_features=None, max_leaf_nodes=None,\n",
       "                       min_impurity_decrease=0.0, min_impurity_split=None,\n",
       "                       min_samples_leaf=1, min_samples_split=2,\n",
       "                       min_weight_fraction_leaf=0.0, presort='deprecated',\n",
       "                       random_state=None, splitter='best')"
      ]
     },
     "execution_count": 518,
     "metadata": {},
     "output_type": "execute_result"
    }
   ],
   "source": [
    "# Try all questions:\n",
    "dt3 = DecisionTreeClassifier()\n",
    "\n",
    "dt3.fit(questions_train_df, y_train)"
   ]
  },
  {
   "cell_type": "code",
   "execution_count": 520,
   "metadata": {},
   "outputs": [],
   "source": [
    "conf_matrix = pd.DataFrame(confusion_matrix(y_test, dt.predict(X_test)))"
   ]
  },
  {
   "cell_type": "code",
   "execution_count": 522,
   "metadata": {},
   "outputs": [
    {
     "data": {
      "text/html": [
       "<div>\n",
       "<style scoped>\n",
       "    .dataframe tbody tr th:only-of-type {\n",
       "        vertical-align: middle;\n",
       "    }\n",
       "\n",
       "    .dataframe tbody tr th {\n",
       "        vertical-align: top;\n",
       "    }\n",
       "\n",
       "    .dataframe thead th {\n",
       "        text-align: right;\n",
       "    }\n",
       "</style>\n",
       "<table border=\"1\" class=\"dataframe\">\n",
       "  <thead>\n",
       "    <tr style=\"text-align: right;\">\n",
       "      <th></th>\n",
       "      <th>actual no</th>\n",
       "      <th>actual yes</th>\n",
       "    </tr>\n",
       "  </thead>\n",
       "  <tbody>\n",
       "    <tr>\n",
       "      <th>predicted no</th>\n",
       "      <td>130</td>\n",
       "      <td>18</td>\n",
       "    </tr>\n",
       "    <tr>\n",
       "      <th>predicted yes</th>\n",
       "      <td>20</td>\n",
       "      <td>10</td>\n",
       "    </tr>\n",
       "  </tbody>\n",
       "</table>\n",
       "</div>"
      ],
      "text/plain": [
       "               actual no  actual yes\n",
       "predicted no         130          18\n",
       "predicted yes         20          10"
      ]
     },
     "execution_count": 522,
     "metadata": {},
     "output_type": "execute_result"
    }
   ],
   "source": [
    "final_matrix = conf_matrix.rename(columns={0:\"predicted no\", 1:'predicted yes'}, \n",
    "                  index={0:\"actual no\", 1:'actual yes'}).swapaxes(0,1)\n",
    "\n",
    "final_matrix#.to_csv('data/confusion_matrix.csv')"
   ]
  },
  {
   "cell_type": "code",
   "execution_count": 523,
   "metadata": {},
   "outputs": [
    {
     "data": {
      "application/vnd.vegalite.v3+json": {
       "$schema": "https://vega.github.io/schema/vega-lite/v3.4.0.json",
       "config": {
        "axis": {
         "titleFontSize": 20
        },
        "mark": {
         "tooltip": null
        },
        "title": {
         "fontSize": 20
        },
        "view": {
         "height": 300,
         "width": 400
        }
       },
       "datasets": {
        "data-3f489a7827bba39b3dfb71d758da1ad7": [
         {
          "fpr": 0,
          "tpr": 0
         },
         {
          "fpr": 0.13333333333333333,
          "tpr": 0.35714285714285715
         },
         {
          "fpr": 0.17333333333333334,
          "tpr": 0.35714285714285715
         },
         {
          "fpr": 0.20666666666666667,
          "tpr": 0.39285714285714285
         },
         {
          "fpr": 1,
          "tpr": 1
         }
        ],
        "data-f4809202ef9fd364138320dbf6e2580f": [
         {
          "end": 0,
          "start": 0
         },
         {
          "end": 1,
          "start": 1
         }
        ]
       },
       "layer": [
        {
         "data": {
          "name": "data-3f489a7827bba39b3dfb71d758da1ad7"
         },
         "encoding": {
          "x": {
           "field": "fpr",
           "type": "quantitative"
          },
          "y": {
           "field": "tpr",
           "type": "quantitative"
          }
         },
         "mark": "line"
        },
        {
         "data": {
          "name": "data-f4809202ef9fd364138320dbf6e2580f"
         },
         "encoding": {
          "x": {
           "axis": {
            "title": "False Positive Rate"
           },
           "field": "start",
           "type": "quantitative"
          },
          "y": {
           "axis": {
            "title": "True Positive Rate"
           },
           "field": "end",
           "type": "quantitative"
          }
         },
         "mark": {
          "color": "orange",
          "strokeDash": [
           5,
           5
          ],
          "type": "line"
         }
        }
       ],
       "title": "ROC Curve"
      },
      "image/png": "[encoded data removed]",
      "text/plain": [
       "<VegaLite 3 object>\n",
       "\n",
       "If you see this message, it means the renderer has not been properly enabled\n",
       "for the frontend that you are using. For more information, see\n",
       "https://altair-viz.github.io/user_guide/troubleshooting.html\n"
      ]
     },
     "execution_count": 523,
     "metadata": {},
     "output_type": "execute_result"
    }
   ],
   "source": [
    "# ROC curve\n",
    "\n",
    "fpr, tpr, _ = roc_curve(y_test, dt.predict_proba(X_test)[:,1])\n",
    "\n",
    "roc_df = pd.DataFrame({\"fpr\":fpr, \"tpr\":tpr})\n",
    "\n",
    "line_df = pd.DataFrame({\"start\":[0,1], \"end\":[0,1]})\n",
    "\n",
    "roc = alt.Chart(roc_df).mark_line().encode(\n",
    "    x = alt.X(\"fpr:Q\"),\n",
    "    y = alt.Y(\"tpr:Q\")\n",
    ")\n",
    "    \n",
    "line = alt.Chart(line_df).mark_line(strokeDash=[5,5], color=\"orange\").encode(\n",
    "    x = alt.X(\"start:Q\", axis=alt.Axis(title=\"False Positive Rate\")),\n",
    "    y = alt.Y(\"end:Q\", axis=alt.Axis(title=\"True Positive Rate\"))\n",
    ")\n",
    "    \n",
    "chart = (roc + line).configure_axis(titleFontSize=20).properties(title=\"ROC Curve\").configure_title(fontSize=20)\n",
    "\n",
    "chart"
   ]
  },
  {
   "cell_type": "code",
   "execution_count": 524,
   "metadata": {},
   "outputs": [],
   "source": [
    "chart.save('img/ROC.png', webdriver='firefox')"
   ]
  },
  {
   "cell_type": "code",
   "execution_count": null,
   "metadata": {},
   "outputs": [],
   "source": []
  }
 ],
 "metadata": {
  "kernelspec": {
   "display_name": "Python 3",
   "language": "python",
   "name": "python3"
  },
  "language_info": {
   "codemirror_mode": {
    "name": "ipython",
    "version": 3
   },
   "file_extension": ".py",
   "mimetype": "text/x-python",
   "name": "python",
   "nbconvert_exporter": "python",
   "pygments_lexer": "ipython3",
   "version": "3.7.4"
  }
 },
 "nbformat": 4,
 "nbformat_minor": 4
}
