{
 "cells": [
  {
   "cell_type": "code",
   "execution_count": 6,
   "metadata": {},
   "outputs": [],
   "source": [
    "# Attribution: \n",
    "# https://stackoverflow.com/questions/3451111/unzipping-files-in-python\n",
    "# https://stackoverflow.com/questions/22676/how-do-i-download-a-file-over-http-using-python\n",
    "# https://discuss.analyticsvidhya.com/t/loading-arff-type-files-in-python/27419\n",
    "# https://www.geeksforgeeks.org/get-post-requests-using-python/\n",
    "\n",
    "import zipfile\n",
    "import pandas as pd\n",
    "import urllib\n",
    "import requests\n",
    "from scipy.io import arff\n",
    "\n",
    "url = \"https://archive.ics.uci.edu/ml/machine-learning-databases/00419/Autism-Screening-Child-Data%20Plus%20Description.zip\"\n",
    "filename = \"autism_screening.zip\"\n",
    "\n",
    "# send request and save object\n",
    "r = requests.get(url)\n",
    "\n",
    "# extract content of response object 'r' and write to specified filename\n",
    "with open(filename, 'wb') as f:\n",
    "    f.write(r.content)\n",
    "\n",
    "# Extract the arff file located in the zipped folder using python library zipfile\n",
    "with zipfile.ZipFile(filename, 'r') as myzip:\n",
    "    myzip.extract('Autism-Child-Data.arff')\n",
    "\n",
    "# Use 'scipy.io.arff' library to read in arff file\n",
    "data = arff.loadarff(\"Autism-Child-Data.arff\")\n",
    "\n",
    "# The arff file contains a csv in element 0 and a description of the variables in element 1\n",
    "df = pd.DataFrame(data[0], dtype='str')\n",
    "\n",
    "# Change dtypes of columns\n",
    "for col in df.columns[0:10]:\n",
    "    df[col] = df[col].astype('int')\n",
    "df['age'] = df['age'].astype('float')\n",
    "df['result'] = df['result'].astype('float')\n",
    "\n",
    "# Replace question marks with NAs\n",
    "for col in df.columns:\n",
    "    df[col] = df[col].replace('?', 'NA')\n",
    "\n",
    "# Write to csv on hard drive\n",
    "df.to_csv(\"autism_screening_children.csv\", index=False)"
   ]
  },
  {
   "cell_type": "code",
   "execution_count": null,
   "metadata": {},
   "outputs": [],
   "source": []
  },
  {
   "cell_type": "code",
   "execution_count": null,
   "metadata": {},
   "outputs": [],
   "source": []
  }
 ],
 "metadata": {
  "kernelspec": {
   "display_name": "Python 3",
   "language": "python",
   "name": "python3"
  },
  "language_info": {
   "codemirror_mode": {
    "name": "ipython",
    "version": 3
   },
   "file_extension": ".py",
   "mimetype": "text/x-python",
   "name": "python",
   "nbconvert_exporter": "python",
   "pygments_lexer": "ipython3",
   "version": "3.7.4"
  }
 },
 "nbformat": 4,
 "nbformat_minor": 4
}
